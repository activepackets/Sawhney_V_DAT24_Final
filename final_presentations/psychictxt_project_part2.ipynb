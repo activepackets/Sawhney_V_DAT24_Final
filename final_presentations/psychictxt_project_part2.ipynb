{
 "cells": [
  {
   "cell_type": "markdown",
   "metadata": {},
   "source": [
    "The goal of this project is to be able to classify users in the psychictxt application based on their usage. The data if from Sept 1 2015 - October 10 2015. The labels we are\n",
    "going to user are:\n",
    "\n",
    "Whale: For users who have asked and paid for more than 6 questions\n",
    "High Roller: For users who have asked between 2-5 questions\n",
    "Player: For users who have only asked 2 questions\n",
    "Lapse: These are users who in previous months have asked more than 2 questions but during this time period only asked 1\n",
    "Low Value: These are users who have not spent money in the app and only asked 1 question\n",
    "\n",
    "The data was gathered together from a CSV as well as database calls to the google appengine DB so the first part below is just gathering and clearning data"
   ]
  },
  {
   "cell_type": "code",
   "execution_count": 1557,
   "metadata": {
    "collapsed": true
   },
   "outputs": [],
   "source": [
    "import numpy as np\n",
    "import pandas as pd\n",
    "import matplotlib.pyplot as plt\n",
    "from datetime import datetime\n",
    "import time\n",
    "import sys\n",
    "import os\n",
    "import getpass\n",
    "\n",
    "\n",
    "AE_PATH = \"/Program Files (x86)/Google/google_appengine/\"\n",
    "APP_PATH = os.path.abspath(\".\")\n",
    "EXTRA_PATHS = [\n",
    "    APP_PATH,\n",
    "    AE_PATH,\n",
    "    os.path.join(AE_PATH, 'lib', 'antlr3'),\n",
    "    os.path.join(AE_PATH, 'lib', 'django'),\n",
    "    os.path.join(AE_PATH, 'lib', 'ipaddr'),\n",
    "    os.path.join(AE_PATH, 'lib', 'webob'),\n",
    "    os.path.join(AE_PATH, 'lib', 'yaml', 'lib'),\n",
    "    os.path.join(AE_PATH, 'lib', 'fancy_urllib'), # issue[1]\n",
    "]\n",
    "sys.path = EXTRA_PATHS + sys.path\n",
    "from google.appengine.ext.remote_api import remote_api_stub\n",
    "\n",
    "from google.appengine.api import users\n",
    "from google.appengine.ext import db\n",
    "from google.appengine.ext import webapp\n",
    "from google.appengine.ext import ndb\n"
   ]
  },
  {
   "cell_type": "code",
   "execution_count": 1558,
   "metadata": {
    "collapsed": true
   },
   "outputs": [],
   "source": [
    "#Here lets read the CSV into dataframe\n",
    "\n",
    "psychicdata = pd.read_csv('cleaned_processed_psychicData_901_1010.csv',header=0) "
   ]
  },
  {
   "cell_type": "code",
   "execution_count": 1559,
   "metadata": {
    "collapsed": false
   },
   "outputs": [
    {
     "data": {
      "text/plain": [
       "2345    1995-11-21\n",
       "2346    1980-01-01\n",
       "2347    1996-05-14\n",
       "2348    1996-11-01\n",
       "2349    1980-01-01\n",
       "2350    1988-01-06\n",
       "2351    1977-07-25\n",
       "2352    1976-09-07\n",
       "2353    1988-06-09\n",
       "2354    1980-01-06\n",
       "2355    1996-01-25\n",
       "2356    1993-02-27\n",
       "2357    1968-03-23\n",
       "2358    1991-06-23\n",
       "2359    1968-06-20\n",
       "2360           NaN\n",
       "2361    1995-04-21\n",
       "2362    1994-07-29\n",
       "2363    1990-07-08\n",
       "2364    1990-02-26\n",
       "2365    1967-07-24\n",
       "2366    1988-09-28\n",
       "2367    1996-10-26\n",
       "2368    1996-10-03\n",
       "2369    1980-01-01\n",
       "2370    1995-06-07\n",
       "2371    1991-03-26\n",
       "2372    1996-12-11\n",
       "2373    1988-04-03\n",
       "2374    1996-07-07\n",
       "           ...    \n",
       "2570    1984-03-16\n",
       "2571    1986-08-26\n",
       "2572    1996-01-12\n",
       "2573    1995-08-26\n",
       "2574    1983-04-03\n",
       "2575    1989-09-11\n",
       "2576    1997-08-26\n",
       "2577    1996-10-11\n",
       "2578    1950-11-21\n",
       "2579    1995-10-14\n",
       "2580    1984-11-06\n",
       "2581    1990-08-28\n",
       "2582    1994-08-16\n",
       "2583    1987-10-21\n",
       "2584    1993-07-27\n",
       "2585    1991-10-29\n",
       "2586    1996-09-30\n",
       "2587    1970-05-15\n",
       "2588    1992-10-28\n",
       "2589    1977-01-21\n",
       "2590    1990-03-13\n",
       "2591    1990-01-18\n",
       "2592    1996-08-08\n",
       "2593    1995-06-23\n",
       "2594    1997-08-14\n",
       "2595    1996-08-25\n",
       "2596    1995-06-18\n",
       "2597    1995-01-11\n",
       "2598    1996-08-31\n",
       "2599    1990-09-30\n",
       "Name: birthday, dtype: object"
      ]
     },
     "execution_count": 1559,
     "metadata": {},
     "output_type": "execute_result"
    }
   ],
   "source": [
    "psychicdata.birthday[2345:2600]\n",
    "# So the data here is the following:\n",
    "# UserKey : ID of user\n",
    "# UserName: probably not needed since it is not unique anyhow\n",
    "# Total Questions Sept/Oct and Total Questions are the number of questions in this time period and total number of questions overall\n",
    "# Average Answer is the time it took for a user to get a response to his/her question\n",
    "# Avg time between questions is just that\n",
    "# First Contact Recent Contact and Last Advisor will not be used\n",
    "# UserValue is here but we will change it to what we want next\n",
    "# Names of psychics is next along with how many questions they were asked"
   ]
  },
  {
   "cell_type": "code",
   "execution_count": 1560,
   "metadata": {
    "collapsed": false
   },
   "outputs": [
    {
     "name": "stdout",
     "output_type": "stream",
     "text": [
      "<class 'pandas.core.frame.DataFrame'>\n",
      "Int64Index: 5777 entries, 0 to 5776\n",
      "Data columns (total 25 columns):\n",
      "UserKey                       5777 non-null object\n",
      "User_Name                     5777 non-null object\n",
      "Total_Questions_Sept_Oct      5777 non-null int64\n",
      "Total_Questions               5777 non-null int64\n",
      "Average_Answer                5777 non-null int64\n",
      "Avg_Time_Between_Questions    5777 non-null object\n",
      "First_Contact                 5777 non-null object\n",
      "Recent_Contact                5777 non-null object\n",
      "Last_Advisor                  5777 non-null object\n",
      "UserValue                     5777 non-null object\n",
      "Amber                         5777 non-null float64\n",
      "Bethany                       5777 non-null float64\n",
      "Cynthia                       5777 non-null float64\n",
      "David                         5777 non-null float64\n",
      "Desiree                       5777 non-null float64\n",
      "Gina                          5777 non-null float64\n",
      "Kitty                         5777 non-null float64\n",
      "Laurie                        5777 non-null float64\n",
      "Liz                           5777 non-null float64\n",
      "Samantha                      5777 non-null float64\n",
      "Inactive_Advisors             5777 non-null int64\n",
      "OldPsychicQuestionsTotal      5777 non-null float64\n",
      "gender                        5777 non-null object\n",
      "birthday                      5688 non-null object\n",
      "platform                      5777 non-null object\n",
      "dtypes: float64(11), int64(4), object(10)\n",
      "memory usage: 1.1+ MB\n"
     ]
    }
   ],
   "source": [
    "psychicdata.info()"
   ]
  },
  {
   "cell_type": "code",
   "execution_count": 1561,
   "metadata": {
    "collapsed": true
   },
   "outputs": [],
   "source": [
    "# since avg answer time cananot possibly equal 0, we will drop those rows as we assume it is bad data\n",
    "psychicdata = psychicdata[psychicdata.Average_Answer != 0]"
   ]
  },
  {
   "cell_type": "code",
   "execution_count": 1562,
   "metadata": {
    "collapsed": false
   },
   "outputs": [
    {
     "data": {
      "text/html": [
       "<div>\n",
       "<table border=\"1\" class=\"dataframe\">\n",
       "  <thead>\n",
       "    <tr style=\"text-align: right;\">\n",
       "      <th></th>\n",
       "      <th>UserKey</th>\n",
       "      <th>User_Name</th>\n",
       "      <th>Total_Questions_Sept_Oct</th>\n",
       "      <th>Total_Questions</th>\n",
       "      <th>Average_Answer</th>\n",
       "      <th>Avg_Time_Between_Questions</th>\n",
       "      <th>First_Contact</th>\n",
       "      <th>Recent_Contact</th>\n",
       "      <th>Last_Advisor</th>\n",
       "      <th>UserValue</th>\n",
       "      <th>...</th>\n",
       "      <th>Gina</th>\n",
       "      <th>Kitty</th>\n",
       "      <th>Laurie</th>\n",
       "      <th>Liz</th>\n",
       "      <th>Samantha</th>\n",
       "      <th>Inactive_Advisors</th>\n",
       "      <th>OldPsychicQuestionsTotal</th>\n",
       "      <th>gender</th>\n",
       "      <th>birthday</th>\n",
       "      <th>platform</th>\n",
       "    </tr>\n",
       "  </thead>\n",
       "  <tbody>\n",
       "  </tbody>\n",
       "</table>\n",
       "<p>0 rows × 25 columns</p>\n",
       "</div>"
      ],
      "text/plain": [
       "Empty DataFrame\n",
       "Columns: [UserKey, User_Name, Total_Questions_Sept_Oct, Total_Questions, Average_Answer, Avg_Time_Between_Questions, First_Contact, Recent_Contact, Last_Advisor, UserValue, Amber, Bethany, Cynthia, David, Desiree, Gina, Kitty, Laurie, Liz, Samantha, Inactive_Advisors, OldPsychicQuestionsTotal, gender, birthday, platform]\n",
       "Index: []\n",
       "\n",
       "[0 rows x 25 columns]"
      ]
     },
     "execution_count": 1562,
     "metadata": {},
     "output_type": "execute_result"
    }
   ],
   "source": [
    "psychicdata[psychicdata.Average_Answer == 0]"
   ]
  },
  {
   "cell_type": "code",
   "execution_count": 1563,
   "metadata": {
    "collapsed": false
   },
   "outputs": [
    {
     "data": {
      "text/plain": [
       "UserKey                       5777\n",
       "User_Name                     5777\n",
       "Total_Questions_Sept_Oct      5777\n",
       "Total_Questions               5777\n",
       "Average_Answer                5777\n",
       "Avg_Time_Between_Questions    5777\n",
       "First_Contact                 5777\n",
       "Recent_Contact                5777\n",
       "Last_Advisor                  5777\n",
       "UserValue                     5777\n",
       "Amber                         5777\n",
       "Bethany                       5777\n",
       "Cynthia                       5777\n",
       "David                         5777\n",
       "Desiree                       5777\n",
       "Gina                          5777\n",
       "Kitty                         5777\n",
       "Laurie                        5777\n",
       "Liz                           5777\n",
       "Samantha                      5777\n",
       "Inactive_Advisors             5777\n",
       "OldPsychicQuestionsTotal      5777\n",
       "gender                        5777\n",
       "birthday                      5688\n",
       "platform                      5777\n",
       "dtype: int64"
      ]
     },
     "execution_count": 1563,
     "metadata": {},
     "output_type": "execute_result"
    }
   ],
   "source": [
    "# lets fill the null fields with 0 which is for questions asked to a psychic\n",
    "psychicdata.count()"
   ]
  },
  {
   "cell_type": "code",
   "execution_count": 1564,
   "metadata": {
    "collapsed": false
   },
   "outputs": [
    {
     "data": {
      "text/html": [
       "<div>\n",
       "<table border=\"1\" class=\"dataframe\">\n",
       "  <thead>\n",
       "    <tr style=\"text-align: right;\">\n",
       "      <th></th>\n",
       "      <th>UserKey</th>\n",
       "      <th>User_Name</th>\n",
       "      <th>Total_Questions_Sept_Oct</th>\n",
       "      <th>Total_Questions</th>\n",
       "      <th>Average_Answer</th>\n",
       "      <th>Avg_Time_Between_Questions</th>\n",
       "      <th>First_Contact</th>\n",
       "      <th>Recent_Contact</th>\n",
       "      <th>Last_Advisor</th>\n",
       "      <th>UserValue</th>\n",
       "      <th>...</th>\n",
       "      <th>Gina</th>\n",
       "      <th>Kitty</th>\n",
       "      <th>Laurie</th>\n",
       "      <th>Liz</th>\n",
       "      <th>Samantha</th>\n",
       "      <th>Inactive_Advisors</th>\n",
       "      <th>OldPsychicQuestionsTotal</th>\n",
       "      <th>gender</th>\n",
       "      <th>birthday</th>\n",
       "      <th>platform</th>\n",
       "    </tr>\n",
       "  </thead>\n",
       "  <tbody>\n",
       "  </tbody>\n",
       "</table>\n",
       "<p>0 rows × 25 columns</p>\n",
       "</div>"
      ],
      "text/plain": [
       "Empty DataFrame\n",
       "Columns: [UserKey, User_Name, Total_Questions_Sept_Oct, Total_Questions, Average_Answer, Avg_Time_Between_Questions, First_Contact, Recent_Contact, Last_Advisor, UserValue, Amber, Bethany, Cynthia, David, Desiree, Gina, Kitty, Laurie, Liz, Samantha, Inactive_Advisors, OldPsychicQuestionsTotal, gender, birthday, platform]\n",
       "Index: []\n",
       "\n",
       "[0 rows x 25 columns]"
      ]
     },
     "execution_count": 1564,
     "metadata": {},
     "output_type": "execute_result"
    }
   ],
   "source": [
    "noblankbdays = psychicdata[pd.isnull(psychicdata.birthday) == False]\n",
    "noblankbdays[pd.isnull(noblankbdays.birthday)]"
   ]
  },
  {
   "cell_type": "code",
   "execution_count": 1565,
   "metadata": {
    "collapsed": false
   },
   "outputs": [
    {
     "data": {
      "text/html": [
       "<div>\n",
       "<table border=\"1\" class=\"dataframe\">\n",
       "  <thead>\n",
       "    <tr style=\"text-align: right;\">\n",
       "      <th></th>\n",
       "      <th>UserKey</th>\n",
       "      <th>Average_Answer</th>\n",
       "      <th>UserValue</th>\n",
       "      <th>Amber</th>\n",
       "      <th>Bethany</th>\n",
       "      <th>Cynthia</th>\n",
       "      <th>David</th>\n",
       "      <th>Desiree</th>\n",
       "      <th>Gina</th>\n",
       "      <th>Kitty</th>\n",
       "      <th>Laurie</th>\n",
       "      <th>Liz</th>\n",
       "      <th>Samantha</th>\n",
       "      <th>gender</th>\n",
       "      <th>birthday</th>\n",
       "      <th>platform</th>\n",
       "    </tr>\n",
       "  </thead>\n",
       "  <tbody>\n",
       "    <tr>\n",
       "      <th>0</th>\n",
       "      <td>Xk6vFJYnmjjgEJnWVcnV9otm51hfbLNh@talkpok.appsp...</td>\n",
       "      <td>6626</td>\n",
       "      <td>Whale</td>\n",
       "      <td>21.293</td>\n",
       "      <td>0.380</td>\n",
       "      <td>58.175</td>\n",
       "      <td>0.000</td>\n",
       "      <td>2.091</td>\n",
       "      <td>0.190</td>\n",
       "      <td>0.000</td>\n",
       "      <td>0.380</td>\n",
       "      <td>17.490</td>\n",
       "      <td>0.000</td>\n",
       "      <td>FEMALE</td>\n",
       "      <td>1996-09-19</td>\n",
       "      <td>IOS</td>\n",
       "    </tr>\n",
       "    <tr>\n",
       "      <th>1</th>\n",
       "      <td>EGS3omwhyDF2OxwiR490bQKCXcZBUR7W@talkpok.appsp...</td>\n",
       "      <td>3973</td>\n",
       "      <td>Whale</td>\n",
       "      <td>24.413</td>\n",
       "      <td>0.000</td>\n",
       "      <td>66.667</td>\n",
       "      <td>6.103</td>\n",
       "      <td>2.817</td>\n",
       "      <td>0.000</td>\n",
       "      <td>0.000</td>\n",
       "      <td>0.000</td>\n",
       "      <td>0.000</td>\n",
       "      <td>0.000</td>\n",
       "      <td>MALE</td>\n",
       "      <td>1982-06-11</td>\n",
       "      <td>ANDROID</td>\n",
       "    </tr>\n",
       "    <tr>\n",
       "      <th>2</th>\n",
       "      <td>iElbQBjtXBr4EUQQpazCKsS6FS88ihRe@talkpok.appsp...</td>\n",
       "      <td>10429</td>\n",
       "      <td>Whale</td>\n",
       "      <td>0.000</td>\n",
       "      <td>0.000</td>\n",
       "      <td>100.000</td>\n",
       "      <td>0.000</td>\n",
       "      <td>0.000</td>\n",
       "      <td>0.000</td>\n",
       "      <td>0.000</td>\n",
       "      <td>0.000</td>\n",
       "      <td>0.000</td>\n",
       "      <td>0.000</td>\n",
       "      <td>FEMALE</td>\n",
       "      <td>1970-03-21</td>\n",
       "      <td>ANDROID</td>\n",
       "    </tr>\n",
       "    <tr>\n",
       "      <th>3</th>\n",
       "      <td>fnOmv5FUMWVfr8OZIh9ZkyaLuAXCjWjL@talkpok.appsp...</td>\n",
       "      <td>10104</td>\n",
       "      <td>Whale</td>\n",
       "      <td>0.000</td>\n",
       "      <td>0.000</td>\n",
       "      <td>0.000</td>\n",
       "      <td>0.000</td>\n",
       "      <td>0.000</td>\n",
       "      <td>99.662</td>\n",
       "      <td>0.000</td>\n",
       "      <td>0.000</td>\n",
       "      <td>0.000</td>\n",
       "      <td>0.000</td>\n",
       "      <td>FEMALE</td>\n",
       "      <td>1960-07-25</td>\n",
       "      <td>ANDROID</td>\n",
       "    </tr>\n",
       "    <tr>\n",
       "      <th>4</th>\n",
       "      <td>bZ8tS8DOqFAVxLbmjzGZq8eWLRK8b8Ue@talkpok.appsp...</td>\n",
       "      <td>6660</td>\n",
       "      <td>Whale</td>\n",
       "      <td>0.803</td>\n",
       "      <td>0.000</td>\n",
       "      <td>0.402</td>\n",
       "      <td>96.787</td>\n",
       "      <td>1.606</td>\n",
       "      <td>0.402</td>\n",
       "      <td>0.000</td>\n",
       "      <td>0.000</td>\n",
       "      <td>0.000</td>\n",
       "      <td>0.000</td>\n",
       "      <td>FEMALE</td>\n",
       "      <td>1984-08-17</td>\n",
       "      <td>IOS</td>\n",
       "    </tr>\n",
       "  </tbody>\n",
       "</table>\n",
       "</div>"
      ],
      "text/plain": [
       "                                             UserKey  Average_Answer  \\\n",
       "0  Xk6vFJYnmjjgEJnWVcnV9otm51hfbLNh@talkpok.appsp...            6626   \n",
       "1  EGS3omwhyDF2OxwiR490bQKCXcZBUR7W@talkpok.appsp...            3973   \n",
       "2  iElbQBjtXBr4EUQQpazCKsS6FS88ihRe@talkpok.appsp...           10429   \n",
       "3  fnOmv5FUMWVfr8OZIh9ZkyaLuAXCjWjL@talkpok.appsp...           10104   \n",
       "4  bZ8tS8DOqFAVxLbmjzGZq8eWLRK8b8Ue@talkpok.appsp...            6660   \n",
       "\n",
       "  UserValue  Amber  Bethany  Cynthia  David  Desiree   Gina  Kitty  Laurie  \\\n",
       "0     Whale 21.293    0.380   58.175  0.000    2.091  0.190  0.000   0.380   \n",
       "1     Whale 24.413    0.000   66.667  6.103    2.817  0.000  0.000   0.000   \n",
       "2     Whale  0.000    0.000  100.000  0.000    0.000  0.000  0.000   0.000   \n",
       "3     Whale  0.000    0.000    0.000  0.000    0.000 99.662  0.000   0.000   \n",
       "4     Whale  0.803    0.000    0.402 96.787    1.606  0.402  0.000   0.000   \n",
       "\n",
       "     Liz  Samantha  gender    birthday platform  \n",
       "0 17.490     0.000  FEMALE  1996-09-19      IOS  \n",
       "1  0.000     0.000    MALE  1982-06-11  ANDROID  \n",
       "2  0.000     0.000  FEMALE  1970-03-21  ANDROID  \n",
       "3  0.000     0.000  FEMALE  1960-07-25  ANDROID  \n",
       "4  0.000     0.000  FEMALE  1984-08-17      IOS  "
      ]
     },
     "execution_count": 1565,
     "metadata": {},
     "output_type": "execute_result"
    }
   ],
   "source": [
    "#data= data.drop('UserKey','Total_Questions','Avg_Time_Between_Questions','First_Contact','Recent_Contact')\n",
    "#'Avg_Time_Between_Questions','First_Contact','Recent_Contact','Last_Advisor','Inactive_Advisors','OldPsychicQuestionsTotal')\n",
    "data = noblankbdays.drop(['User_Name','Total_Questions_Sept_Oct','Total_Questions','Avg_Time_Between_Questions','First_Contact','Recent_Contact','Last_Advisor','Inactive_Advisors','OldPsychicQuestionsTotal'],1)\n",
    "data.head()"
   ]
  },
  {
   "cell_type": "markdown",
   "metadata": {},
   "source": [
    "Now begins the interesting Data Science Part !!\n",
    "At this point we have all the data cleanded in the updatedPsychicData dataframe\n",
    "Lets Start with Clustering!"
   ]
  },
  {
   "cell_type": "code",
   "execution_count": 1566,
   "metadata": {
    "collapsed": true
   },
   "outputs": [],
   "source": [
    "from patsy import dmatrices, dmatrix\n",
    "from sklearn.svm import SVC, SVR\n",
    "from sklearn.ensemble import RandomForestClassifier\n",
    "from sklearn.cross_validation import cross_val_score\n",
    "from sklearn.grid_search import GridSearchCV\n",
    "from sklearn.cluster import KMeans\n",
    "from sklearn.neighbors import KNeighborsClassifier\n",
    "from sklearn.preprocessing import StandardScaler\n",
    "from sklearn.linear_model import LogisticRegression\n",
    "import matplotlib.pyplot as plt\n",
    "from sklearn.metrics import accuracy_score\n",
    "from sklearn.dummy import DummyClassifier\n",
    "\n",
    "from datetime import date\n",
    "\n",
    "%matplotlib inline"
   ]
  },
  {
   "cell_type": "code",
   "execution_count": 1567,
   "metadata": {
    "collapsed": false
   },
   "outputs": [],
   "source": [
    "# lets calculate user's ages from the birthdates field\n",
    "def age(birthday):\n",
    "    today = date.today()\n",
    "    y = today.year - birthday.year\n",
    "    if today.month < birthday.month or today.month == birthday.month and today.day < birthday.day:\n",
    "        y -= 1\n",
    "    return y\n",
    "\n",
    "Age=[]\n",
    "for each in data.birthday:\n",
    "    if each:\n",
    "        Age.append(age(pd.to_datetime(each, coerce=True)))\n",
    "    else: Age.append(None)\n",
    "data['Age']=Age\n",
    "theMedianAge = data.Age.median()\n",
    "psychicNewDF = data.Age.fillna(theMedianAge)\n",
    "data.Age = psychicNewDF\n",
    "data[pd.isnull(data.Age)]\n",
    "genderList = []\n",
    "for each in data.gender:\n",
    "    if each == 'BLANK':\n",
    "        genderList.append('FEMALE')\n",
    "    else: genderList.append(each)\n",
    "len(genderList)\n",
    "data.gender = genderList"
   ]
  },
  {
   "cell_type": "code",
   "execution_count": 1568,
   "metadata": {
    "collapsed": false
   },
   "outputs": [
    {
     "data": {
      "text/html": [
       "<div>\n",
       "<table border=\"1\" class=\"dataframe\">\n",
       "  <thead>\n",
       "    <tr style=\"text-align: right;\">\n",
       "      <th></th>\n",
       "      <th>UserKey</th>\n",
       "      <th>Average_Answer</th>\n",
       "      <th>UserValue</th>\n",
       "      <th>Amber</th>\n",
       "      <th>Bethany</th>\n",
       "      <th>Cynthia</th>\n",
       "      <th>David</th>\n",
       "      <th>Desiree</th>\n",
       "      <th>Gina</th>\n",
       "      <th>Kitty</th>\n",
       "      <th>Laurie</th>\n",
       "      <th>Liz</th>\n",
       "      <th>Samantha</th>\n",
       "      <th>gender</th>\n",
       "      <th>platform</th>\n",
       "      <th>Age</th>\n",
       "    </tr>\n",
       "  </thead>\n",
       "  <tbody>\n",
       "  </tbody>\n",
       "</table>\n",
       "</div>"
      ],
      "text/plain": [
       "Empty DataFrame\n",
       "Columns: [UserKey, Average_Answer, UserValue, Amber, Bethany, Cynthia, David, Desiree, Gina, Kitty, Laurie, Liz, Samantha, gender, platform, Age]\n",
       "Index: []"
      ]
     },
     "execution_count": 1568,
     "metadata": {},
     "output_type": "execute_result"
    }
   ],
   "source": [
    "data=data.drop('birthday',1)\n",
    "data.head()\n",
    "data[data.gender == 'BLANK']\n"
   ]
  },
  {
   "cell_type": "code",
   "execution_count": 1569,
   "metadata": {
    "collapsed": false
   },
   "outputs": [
    {
     "data": {
      "text/html": [
       "<div>\n",
       "<table border=\"1\" class=\"dataframe\">\n",
       "  <thead>\n",
       "    <tr style=\"text-align: right;\">\n",
       "      <th></th>\n",
       "      <th>UserKey</th>\n",
       "      <th>Average_Answer</th>\n",
       "      <th>UserValue</th>\n",
       "      <th>Amber</th>\n",
       "      <th>Bethany</th>\n",
       "      <th>Cynthia</th>\n",
       "      <th>David</th>\n",
       "      <th>Desiree</th>\n",
       "      <th>Gina</th>\n",
       "      <th>Kitty</th>\n",
       "      <th>Laurie</th>\n",
       "      <th>Liz</th>\n",
       "      <th>Samantha</th>\n",
       "      <th>gender</th>\n",
       "      <th>platform</th>\n",
       "      <th>Age</th>\n",
       "    </tr>\n",
       "  </thead>\n",
       "  <tbody>\n",
       "  </tbody>\n",
       "</table>\n",
       "</div>"
      ],
      "text/plain": [
       "Empty DataFrame\n",
       "Columns: [UserKey, Average_Answer, UserValue, Amber, Bethany, Cynthia, David, Desiree, Gina, Kitty, Laurie, Liz, Samantha, gender, platform, Age]\n",
       "Index: []"
      ]
     },
     "execution_count": 1569,
     "metadata": {},
     "output_type": "execute_result"
    }
   ],
   "source": [
    "data.Age.median()\n",
    "dataCleaned = data[np.logical_and((data.Age <= 65),(data.Age >= 18))]\n",
    "dataCleaned[np.logical_or((data.Age > 65),(data.Age < 18))]\n",
    "#max(data.Age)\n",
    "\n",
    "#data.info()"
   ]
  },
  {
   "cell_type": "code",
   "execution_count": 1570,
   "metadata": {
    "collapsed": false
   },
   "outputs": [
    {
     "name": "stdout",
     "output_type": "stream",
     "text": [
      "<class 'pandas.core.frame.DataFrame'>\n",
      "Int64Index: 5682 entries, 0 to 5776\n",
      "Data columns (total 16 columns):\n",
      "UserKey           5682 non-null object\n",
      "Average_Answer    5682 non-null int64\n",
      "UserValue         5682 non-null object\n",
      "Amber             5682 non-null float64\n",
      "Bethany           5682 non-null float64\n",
      "Cynthia           5682 non-null float64\n",
      "David             5682 non-null float64\n",
      "Desiree           5682 non-null float64\n",
      "Gina              5682 non-null float64\n",
      "Kitty             5682 non-null float64\n",
      "Laurie            5682 non-null float64\n",
      "Liz               5682 non-null float64\n",
      "Samantha          5682 non-null float64\n",
      "gender            5682 non-null object\n",
      "platform          5682 non-null object\n",
      "Age               5682 non-null int64\n",
      "dtypes: float64(10), int64(2), object(4)\n",
      "memory usage: 754.6+ KB\n"
     ]
    }
   ],
   "source": [
    "dataCleaned.info()"
   ]
  },
  {
   "cell_type": "code",
   "execution_count": 1571,
   "metadata": {
    "collapsed": true
   },
   "outputs": [],
   "source": [
    "from sklearn.preprocessing import StandardScaler\n",
    "from sklearn.cluster import KMeans\n",
    "from patsy import dmatrix"
   ]
  },
  {
   "cell_type": "code",
   "execution_count": 1572,
   "metadata": {
    "collapsed": false
   },
   "outputs": [
    {
     "name": "stdout",
     "output_type": "stream",
     "text": [
      "<class 'pandas.core.frame.DataFrame'>\n",
      "Int64Index: 1211 entries, 0 to 1224\n",
      "Data columns (total 17 columns):\n",
      "UserKey           1211 non-null object\n",
      "Average_Answer    1211 non-null int64\n",
      "UserValue         1211 non-null object\n",
      "Amber             1211 non-null float64\n",
      "Bethany           1211 non-null float64\n",
      "Cynthia           1211 non-null float64\n",
      "David             1211 non-null float64\n",
      "Desiree           1211 non-null float64\n",
      "Gina              1211 non-null float64\n",
      "Kitty             1211 non-null float64\n",
      "Laurie            1211 non-null float64\n",
      "Liz               1211 non-null float64\n",
      "Samantha          1211 non-null float64\n",
      "gender            1211 non-null object\n",
      "platform          1211 non-null object\n",
      "Age               1211 non-null int64\n",
      "UserValsFac       1211 non-null int32\n",
      "dtypes: float64(10), int32(1), int64(2), object(4)\n",
      "memory usage: 165.6+ KB\n"
     ]
    },
    {
     "name": "stderr",
     "output_type": "stream",
     "text": [
      "C:\\Users\\Vipul\\Anaconda\\lib\\site-packages\\IPython\\kernel\\__main__.py:2: SettingWithCopyWarning: \n",
      "A value is trying to be set on a copy of a slice from a DataFrame.\n",
      "Try using .loc[row_indexer,col_indexer] = value instead\n",
      "\n",
      "See the the caveats in the documentation: http://pandas.pydata.org/pandas-docs/stable/indexing.html#indexing-view-versus-copy\n",
      "  from IPython.kernel.zmq import kernelapp as app\n"
     ]
    }
   ],
   "source": [
    "User_Vals_Fac = pd.factorize(dataCleaned.UserValue)[0]\n",
    "dataCleaned['UserValsFac'] = User_Vals_Fac\n",
    "dataCleanedOld = dataCleaned\n",
    "dataCleaned = dataCleaned[dataCleaned.UserValsFac != 4]\n",
    "dataCleaned = dataCleaned[dataCleaned.UserValsFac != 3]\n",
    "dataCleaned.info()"
   ]
  },
  {
   "cell_type": "code",
   "execution_count": 1573,
   "metadata": {
    "collapsed": true
   },
   "outputs": [],
   "source": [
    "# Lets make a training and test dataset\n",
    "\n",
    "from sklearn.cross_validation import train_test_split\n",
    "train, test = train_test_split(dataCleaned, test_size = 0.2)\n"
   ]
  },
  {
   "cell_type": "code",
   "execution_count": 1574,
   "metadata": {
    "collapsed": false
   },
   "outputs": [
    {
     "data": {
      "text/html": [
       "<div>\n",
       "<table border=\"1\" class=\"dataframe\">\n",
       "  <thead>\n",
       "    <tr style=\"text-align: right;\">\n",
       "      <th></th>\n",
       "      <th>UserKey</th>\n",
       "      <th>Average_Answer</th>\n",
       "      <th>UserValue</th>\n",
       "      <th>Amber</th>\n",
       "      <th>Bethany</th>\n",
       "      <th>Cynthia</th>\n",
       "      <th>David</th>\n",
       "      <th>Desiree</th>\n",
       "      <th>Gina</th>\n",
       "      <th>Kitty</th>\n",
       "      <th>Laurie</th>\n",
       "      <th>Liz</th>\n",
       "      <th>Samantha</th>\n",
       "      <th>gender</th>\n",
       "      <th>platform</th>\n",
       "      <th>Age</th>\n",
       "      <th>UserValsFac</th>\n",
       "    </tr>\n",
       "  </thead>\n",
       "  <tbody>\n",
       "    <tr>\n",
       "      <th>486</th>\n",
       "      <td>8UdySxGfBfsFKniy50IVqFciGhrZjaYi@talkpok.appsp...</td>\n",
       "      <td>14748</td>\n",
       "      <td>High Roller</td>\n",
       "      <td>0.000</td>\n",
       "      <td>20.000</td>\n",
       "      <td>20.000</td>\n",
       "      <td>20.000</td>\n",
       "      <td>0.000</td>\n",
       "      <td>0.000</td>\n",
       "      <td>0.000</td>\n",
       "      <td>0.000</td>\n",
       "      <td>40.000</td>\n",
       "      <td>0.000</td>\n",
       "      <td>FEMALE</td>\n",
       "      <td>IOS</td>\n",
       "      <td>22</td>\n",
       "      <td>1</td>\n",
       "    </tr>\n",
       "    <tr>\n",
       "      <th>456</th>\n",
       "      <td>Wf2L3EgFuOg9L6cdsX9EO8zsa7as2SF6@talkpok.appsp...</td>\n",
       "      <td>10843</td>\n",
       "      <td>Whale</td>\n",
       "      <td>33.333</td>\n",
       "      <td>0.000</td>\n",
       "      <td>50.000</td>\n",
       "      <td>0.000</td>\n",
       "      <td>0.000</td>\n",
       "      <td>16.667</td>\n",
       "      <td>0.000</td>\n",
       "      <td>0.000</td>\n",
       "      <td>0.000</td>\n",
       "      <td>0.000</td>\n",
       "      <td>FEMALE</td>\n",
       "      <td>ANDROID</td>\n",
       "      <td>20</td>\n",
       "      <td>0</td>\n",
       "    </tr>\n",
       "    <tr>\n",
       "      <th>1037</th>\n",
       "      <td>N5CSwD7DuxYr5PIA4rfn13UGzLCmSkHa@talkpok.appsp...</td>\n",
       "      <td>681</td>\n",
       "      <td>Player</td>\n",
       "      <td>50.000</td>\n",
       "      <td>0.000</td>\n",
       "      <td>0.000</td>\n",
       "      <td>50.000</td>\n",
       "      <td>0.000</td>\n",
       "      <td>0.000</td>\n",
       "      <td>0.000</td>\n",
       "      <td>0.000</td>\n",
       "      <td>0.000</td>\n",
       "      <td>0.000</td>\n",
       "      <td>FEMALE</td>\n",
       "      <td>ANDROID</td>\n",
       "      <td>19</td>\n",
       "      <td>2</td>\n",
       "    </tr>\n",
       "    <tr>\n",
       "      <th>1157</th>\n",
       "      <td>0PS9IaTodqfF6tHdZRlkjx5z2xUuMT2e@talkpok.appsp...</td>\n",
       "      <td>2114</td>\n",
       "      <td>Player</td>\n",
       "      <td>0.000</td>\n",
       "      <td>0.000</td>\n",
       "      <td>100.000</td>\n",
       "      <td>0.000</td>\n",
       "      <td>0.000</td>\n",
       "      <td>0.000</td>\n",
       "      <td>0.000</td>\n",
       "      <td>0.000</td>\n",
       "      <td>0.000</td>\n",
       "      <td>0.000</td>\n",
       "      <td>FEMALE</td>\n",
       "      <td>IOS</td>\n",
       "      <td>27</td>\n",
       "      <td>2</td>\n",
       "    </tr>\n",
       "    <tr>\n",
       "      <th>610</th>\n",
       "      <td>TuUZ4aNbAJBJeWv37CJiXG0QwclZsF9V@talkpok.appsp...</td>\n",
       "      <td>6452</td>\n",
       "      <td>High Roller</td>\n",
       "      <td>0.000</td>\n",
       "      <td>0.000</td>\n",
       "      <td>0.000</td>\n",
       "      <td>100.000</td>\n",
       "      <td>0.000</td>\n",
       "      <td>0.000</td>\n",
       "      <td>0.000</td>\n",
       "      <td>0.000</td>\n",
       "      <td>0.000</td>\n",
       "      <td>0.000</td>\n",
       "      <td>FEMALE</td>\n",
       "      <td>IOS</td>\n",
       "      <td>42</td>\n",
       "      <td>1</td>\n",
       "    </tr>\n",
       "  </tbody>\n",
       "</table>\n",
       "</div>"
      ],
      "text/plain": [
       "                                                UserKey  Average_Answer  \\\n",
       "486   8UdySxGfBfsFKniy50IVqFciGhrZjaYi@talkpok.appsp...           14748   \n",
       "456   Wf2L3EgFuOg9L6cdsX9EO8zsa7as2SF6@talkpok.appsp...           10843   \n",
       "1037  N5CSwD7DuxYr5PIA4rfn13UGzLCmSkHa@talkpok.appsp...             681   \n",
       "1157  0PS9IaTodqfF6tHdZRlkjx5z2xUuMT2e@talkpok.appsp...            2114   \n",
       "610   TuUZ4aNbAJBJeWv37CJiXG0QwclZsF9V@talkpok.appsp...            6452   \n",
       "\n",
       "        UserValue  Amber  Bethany  Cynthia   David  Desiree   Gina  Kitty  \\\n",
       "486   High Roller  0.000   20.000   20.000  20.000    0.000  0.000  0.000   \n",
       "456         Whale 33.333    0.000   50.000   0.000    0.000 16.667  0.000   \n",
       "1037       Player 50.000    0.000    0.000  50.000    0.000  0.000  0.000   \n",
       "1157       Player  0.000    0.000  100.000   0.000    0.000  0.000  0.000   \n",
       "610   High Roller  0.000    0.000    0.000 100.000    0.000  0.000  0.000   \n",
       "\n",
       "      Laurie    Liz  Samantha  gender platform  Age  UserValsFac  \n",
       "486    0.000 40.000     0.000  FEMALE      IOS   22            1  \n",
       "456    0.000  0.000     0.000  FEMALE  ANDROID   20            0  \n",
       "1037   0.000  0.000     0.000  FEMALE  ANDROID   19            2  \n",
       "1157   0.000  0.000     0.000  FEMALE      IOS   27            2  \n",
       "610    0.000  0.000     0.000  FEMALE      IOS   42            1  "
      ]
     },
     "execution_count": 1574,
     "metadata": {},
     "output_type": "execute_result"
    }
   ],
   "source": [
    "train.head()"
   ]
  },
  {
   "cell_type": "code",
   "execution_count": 1575,
   "metadata": {
    "collapsed": true
   },
   "outputs": [],
   "source": [
    "# No Nulls in the DATA\n",
    "\n",
    "y, X_train = dmatrices('UserValsFac ~ 0 + Average_Answer + Age + Amber + Bethany + Cynthia + David + Desiree + Gina + Kitty + Laurie + Liz + Samantha + C(gender) + C(platform)', \n",
    "                       train, return_type = 'dataframe')"
   ]
  },
  {
   "cell_type": "code",
   "execution_count": 1576,
   "metadata": {
    "collapsed": false,
    "scrolled": true
   },
   "outputs": [
    {
     "data": {
      "text/html": [
       "<div>\n",
       "<table border=\"1\" class=\"dataframe\">\n",
       "  <thead>\n",
       "    <tr style=\"text-align: right;\">\n",
       "      <th></th>\n",
       "      <th>C(gender)[FEMALE]</th>\n",
       "      <th>C(gender)[MALE]</th>\n",
       "      <th>C(platform)[T.IOS]</th>\n",
       "      <th>Average_Answer</th>\n",
       "      <th>Age</th>\n",
       "      <th>Amber</th>\n",
       "      <th>Bethany</th>\n",
       "      <th>Cynthia</th>\n",
       "      <th>David</th>\n",
       "      <th>Desiree</th>\n",
       "      <th>Gina</th>\n",
       "      <th>Kitty</th>\n",
       "      <th>Laurie</th>\n",
       "      <th>Liz</th>\n",
       "      <th>Samantha</th>\n",
       "    </tr>\n",
       "  </thead>\n",
       "  <tbody>\n",
       "    <tr>\n",
       "      <th>275</th>\n",
       "      <td>1.000</td>\n",
       "      <td>0.000</td>\n",
       "      <td>0.000</td>\n",
       "      <td>24593.000</td>\n",
       "      <td>25.000</td>\n",
       "      <td>10.000</td>\n",
       "      <td>10.000</td>\n",
       "      <td>50.000</td>\n",
       "      <td>0.000</td>\n",
       "      <td>10.000</td>\n",
       "      <td>0.000</td>\n",
       "      <td>0.000</td>\n",
       "      <td>0.000</td>\n",
       "      <td>10.000</td>\n",
       "      <td>10.000</td>\n",
       "    </tr>\n",
       "    <tr>\n",
       "      <th>475</th>\n",
       "      <td>1.000</td>\n",
       "      <td>0.000</td>\n",
       "      <td>0.000</td>\n",
       "      <td>3694.000</td>\n",
       "      <td>27.000</td>\n",
       "      <td>0.000</td>\n",
       "      <td>0.000</td>\n",
       "      <td>16.667</td>\n",
       "      <td>0.000</td>\n",
       "      <td>0.000</td>\n",
       "      <td>16.667</td>\n",
       "      <td>0.000</td>\n",
       "      <td>0.000</td>\n",
       "      <td>0.000</td>\n",
       "      <td>66.667</td>\n",
       "    </tr>\n",
       "    <tr>\n",
       "      <th>463</th>\n",
       "      <td>1.000</td>\n",
       "      <td>0.000</td>\n",
       "      <td>1.000</td>\n",
       "      <td>10283.000</td>\n",
       "      <td>59.000</td>\n",
       "      <td>0.000</td>\n",
       "      <td>0.000</td>\n",
       "      <td>0.000</td>\n",
       "      <td>0.000</td>\n",
       "      <td>83.333</td>\n",
       "      <td>0.000</td>\n",
       "      <td>16.667</td>\n",
       "      <td>0.000</td>\n",
       "      <td>0.000</td>\n",
       "      <td>0.000</td>\n",
       "    </tr>\n",
       "    <tr>\n",
       "      <th>741</th>\n",
       "      <td>1.000</td>\n",
       "      <td>0.000</td>\n",
       "      <td>1.000</td>\n",
       "      <td>10706.000</td>\n",
       "      <td>32.000</td>\n",
       "      <td>0.000</td>\n",
       "      <td>0.000</td>\n",
       "      <td>33.333</td>\n",
       "      <td>0.000</td>\n",
       "      <td>0.000</td>\n",
       "      <td>0.000</td>\n",
       "      <td>66.667</td>\n",
       "      <td>0.000</td>\n",
       "      <td>0.000</td>\n",
       "      <td>0.000</td>\n",
       "    </tr>\n",
       "    <tr>\n",
       "      <th>40</th>\n",
       "      <td>1.000</td>\n",
       "      <td>0.000</td>\n",
       "      <td>1.000</td>\n",
       "      <td>25061.000</td>\n",
       "      <td>33.000</td>\n",
       "      <td>4.082</td>\n",
       "      <td>14.286</td>\n",
       "      <td>2.041</td>\n",
       "      <td>6.122</td>\n",
       "      <td>55.102</td>\n",
       "      <td>2.041</td>\n",
       "      <td>10.204</td>\n",
       "      <td>2.041</td>\n",
       "      <td>2.041</td>\n",
       "      <td>2.041</td>\n",
       "    </tr>\n",
       "  </tbody>\n",
       "</table>\n",
       "</div>"
      ],
      "text/plain": [
       "     C(gender)[FEMALE]  C(gender)[MALE]  C(platform)[T.IOS]  Average_Answer  \\\n",
       "275              1.000            0.000               0.000       24593.000   \n",
       "475              1.000            0.000               0.000        3694.000   \n",
       "463              1.000            0.000               1.000       10283.000   \n",
       "741              1.000            0.000               1.000       10706.000   \n",
       "40               1.000            0.000               1.000       25061.000   \n",
       "\n",
       "       Age  Amber  Bethany  Cynthia  David  Desiree   Gina  Kitty  Laurie  \\\n",
       "275 25.000 10.000   10.000   50.000  0.000   10.000  0.000  0.000   0.000   \n",
       "475 27.000  0.000    0.000   16.667  0.000    0.000 16.667  0.000   0.000   \n",
       "463 59.000  0.000    0.000    0.000  0.000   83.333  0.000 16.667   0.000   \n",
       "741 32.000  0.000    0.000   33.333  0.000    0.000  0.000 66.667   0.000   \n",
       "40  33.000  4.082   14.286    2.041  6.122   55.102  2.041 10.204   2.041   \n",
       "\n",
       "       Liz  Samantha  \n",
       "275 10.000    10.000  \n",
       "475  0.000    66.667  \n",
       "463  0.000     0.000  \n",
       "741  0.000     0.000  \n",
       "40   2.041     2.041  "
      ]
     },
     "execution_count": 1576,
     "metadata": {},
     "output_type": "execute_result"
    }
   ],
   "source": [
    "X_train.tail()"
   ]
  },
  {
   "cell_type": "code",
   "execution_count": 1577,
   "metadata": {
    "collapsed": false
   },
   "outputs": [
    {
     "name": "stdout",
     "output_type": "stream",
     "text": [
      "<class 'pandas.core.frame.DataFrame'>\n",
      "Int64Index: 968 entries, 486 to 40\n",
      "Data columns (total 15 columns):\n",
      "C(gender)[FEMALE]     968 non-null float64\n",
      "C(gender)[MALE]       968 non-null float64\n",
      "C(platform)[T.IOS]    968 non-null float64\n",
      "Average_Answer        968 non-null float64\n",
      "Age                   968 non-null float64\n",
      "Amber                 968 non-null float64\n",
      "Bethany               968 non-null float64\n",
      "Cynthia               968 non-null float64\n",
      "David                 968 non-null float64\n",
      "Desiree               968 non-null float64\n",
      "Gina                  968 non-null float64\n",
      "Kitty                 968 non-null float64\n",
      "Laurie                968 non-null float64\n",
      "Liz                   968 non-null float64\n",
      "Samantha              968 non-null float64\n",
      "dtypes: float64(15)\n",
      "memory usage: 121.0 KB\n"
     ]
    }
   ],
   "source": [
    "X_train.info()\n"
   ]
  },
  {
   "cell_type": "code",
   "execution_count": 1578,
   "metadata": {
    "collapsed": true
   },
   "outputs": [],
   "source": [
    "scale = StandardScaler()\n",
    "y = np.ravel(y)"
   ]
  },
  {
   "cell_type": "code",
   "execution_count": 1579,
   "metadata": {
    "collapsed": false
   },
   "outputs": [
    {
     "data": {
      "text/plain": [
       "968"
      ]
     },
     "execution_count": 1579,
     "metadata": {},
     "output_type": "execute_result"
    }
   ],
   "source": [
    "len(y)\n"
   ]
  },
  {
   "cell_type": "code",
   "execution_count": 1580,
   "metadata": {
    "collapsed": false
   },
   "outputs": [],
   "source": [
    "X_test = dmatrix('0 + Average_Answer + Age + Amber + Bethany + Cynthia + David + Desiree + Gina + Kitty + Laurie + Liz + Samantha + C(gender) + C(platform)', \n",
    "                       test, return_type = 'dataframe')"
   ]
  },
  {
   "cell_type": "code",
   "execution_count": 1581,
   "metadata": {
    "collapsed": false
   },
   "outputs": [
    {
     "data": {
      "text/plain": [
       "RandomForestClassifier(bootstrap=True, class_weight=None, criterion='gini',\n",
       "            max_depth=None, max_features='sqrt', max_leaf_nodes=None,\n",
       "            min_samples_leaf=1, min_samples_split=2,\n",
       "            min_weight_fraction_leaf=0.0, n_estimators=10, n_jobs=1,\n",
       "            oob_score=False, random_state=None, verbose=0,\n",
       "            warm_start=False)"
      ]
     },
     "execution_count": 1581,
     "metadata": {},
     "output_type": "execute_result"
    }
   ],
   "source": [
    "# make our models\n",
    "svc = SVC(kernel='rbf')\n",
    "svc.fit(X_train, y)\n",
    "knn = KNeighborsClassifier(n_neighbors=5)\n",
    "knn.fit(X_train, y)\n",
    "dc = DummyClassifier()\n",
    "dc.fit(X_train, y)\n",
    "rf = RandomForestClassifier(max_features='sqrt')\n",
    "rf.fit(X_train, y)"
   ]
  },
  {
   "cell_type": "code",
   "execution_count": 1582,
   "metadata": {
    "collapsed": false
   },
   "outputs": [
    {
     "name": "stdout",
     "output_type": "stream",
     "text": [
      "Benchmark recall performance is 0.341563786008\n",
      "KNN recall performance is 0.427983539095\n",
      "SVC recall performance is 0.378600823045\n",
      "Random Forest recall performance is 0.666666666667\n"
     ]
    }
   ],
   "source": [
    "#predicted = rf.predict(X_test)\n",
    "#print accuracy_score(test['UserValsFac'],predicted)\n",
    "\n",
    "# check our recall scores\n",
    "print 'Benchmark recall performance is {}'.format(accuracy_score(test['UserValsFac'],dc.predict(X_test)))\n",
    "print 'KNN recall performance is {}'.format(accuracy_score(test['UserValsFac'],knn.predict(X_test)))\n",
    "print 'SVC recall performance is {}'.format(accuracy_score(test['UserValsFac'],svc.predict(X_test)))\n",
    "print 'Random Forest recall performance is {}'.format(accuracy_score(test['UserValsFac'],rf.predict(X_test)))"
   ]
  },
  {
   "cell_type": "code",
   "execution_count": 1583,
   "metadata": {
    "collapsed": false
   },
   "outputs": [
    {
     "data": {
      "text/html": [
       "<div>\n",
       "<table border=\"1\" class=\"dataframe\">\n",
       "  <thead>\n",
       "    <tr style=\"text-align: right;\">\n",
       "      <th></th>\n",
       "      <th>importance</th>\n",
       "    </tr>\n",
       "  </thead>\n",
       "  <tbody>\n",
       "    <tr>\n",
       "      <th>C(gender)[FEMALE]</th>\n",
       "      <td>0.009</td>\n",
       "    </tr>\n",
       "    <tr>\n",
       "      <th>C(gender)[MALE]</th>\n",
       "      <td>0.009</td>\n",
       "    </tr>\n",
       "    <tr>\n",
       "      <th>Liz</th>\n",
       "      <td>0.026</td>\n",
       "    </tr>\n",
       "    <tr>\n",
       "      <th>C(platform)[T.IOS]</th>\n",
       "      <td>0.029</td>\n",
       "    </tr>\n",
       "    <tr>\n",
       "      <th>Samantha</th>\n",
       "      <td>0.038</td>\n",
       "    </tr>\n",
       "    <tr>\n",
       "      <th>Laurie</th>\n",
       "      <td>0.040</td>\n",
       "    </tr>\n",
       "    <tr>\n",
       "      <th>Bethany</th>\n",
       "      <td>0.045</td>\n",
       "    </tr>\n",
       "    <tr>\n",
       "      <th>Gina</th>\n",
       "      <td>0.053</td>\n",
       "    </tr>\n",
       "    <tr>\n",
       "      <th>Kitty</th>\n",
       "      <td>0.054</td>\n",
       "    </tr>\n",
       "    <tr>\n",
       "      <th>Amber</th>\n",
       "      <td>0.066</td>\n",
       "    </tr>\n",
       "    <tr>\n",
       "      <th>David</th>\n",
       "      <td>0.073</td>\n",
       "    </tr>\n",
       "    <tr>\n",
       "      <th>Desiree</th>\n",
       "      <td>0.084</td>\n",
       "    </tr>\n",
       "    <tr>\n",
       "      <th>Cynthia</th>\n",
       "      <td>0.087</td>\n",
       "    </tr>\n",
       "    <tr>\n",
       "      <th>Age</th>\n",
       "      <td>0.169</td>\n",
       "    </tr>\n",
       "    <tr>\n",
       "      <th>Average_Answer</th>\n",
       "      <td>0.218</td>\n",
       "    </tr>\n",
       "  </tbody>\n",
       "</table>\n",
       "</div>"
      ],
      "text/plain": [
       "                    importance\n",
       "C(gender)[FEMALE]        0.009\n",
       "C(gender)[MALE]          0.009\n",
       "Liz                      0.026\n",
       "C(platform)[T.IOS]       0.029\n",
       "Samantha                 0.038\n",
       "Laurie                   0.040\n",
       "Bethany                  0.045\n",
       "Gina                     0.053\n",
       "Kitty                    0.054\n",
       "Amber                    0.066\n",
       "David                    0.073\n",
       "Desiree                  0.084\n",
       "Cynthia                  0.087\n",
       "Age                      0.169\n",
       "Average_Answer           0.218"
      ]
     },
     "execution_count": 1583,
     "metadata": {},
     "output_type": "execute_result"
    }
   ],
   "source": [
    "# WOW we can predict what label a person is with 85% or better accuracy!\n",
    "d = {'importance': rf.feature_importances_}\n",
    "pd.DataFrame(d, index=X_train.columns).sort('importance')"
   ]
  },
  {
   "cell_type": "code",
   "execution_count": 1584,
   "metadata": {
    "collapsed": true
   },
   "outputs": [],
   "source": [
    "# this shows us that the most important things in prediction is the age and the average answer speed followed by if the question\n",
    "# was to Cynthia or not.\n",
    "\n",
    "# Lets do clustering now to see what we get on the original data set"
   ]
  },
  {
   "cell_type": "code",
   "execution_count": 1585,
   "metadata": {
    "collapsed": false
   },
   "outputs": [
    {
     "data": {
      "text/html": [
       "<div>\n",
       "<table border=\"1\" class=\"dataframe\">\n",
       "  <thead>\n",
       "    <tr style=\"text-align: right;\">\n",
       "      <th></th>\n",
       "      <th>C(gender)[FEMALE]</th>\n",
       "      <th>C(gender)[MALE]</th>\n",
       "      <th>C(platform)[T.IOS]</th>\n",
       "      <th>Average_Answer</th>\n",
       "      <th>Age</th>\n",
       "      <th>Amber</th>\n",
       "      <th>Bethany</th>\n",
       "      <th>Cynthia</th>\n",
       "      <th>David</th>\n",
       "      <th>Desiree</th>\n",
       "      <th>Gina</th>\n",
       "      <th>Kitty</th>\n",
       "      <th>Laurie</th>\n",
       "      <th>Liz</th>\n",
       "      <th>Samantha</th>\n",
       "    </tr>\n",
       "  </thead>\n",
       "  <tbody>\n",
       "    <tr>\n",
       "      <th>0</th>\n",
       "      <td>1.000</td>\n",
       "      <td>0.000</td>\n",
       "      <td>1.000</td>\n",
       "      <td>6626.000</td>\n",
       "      <td>19.000</td>\n",
       "      <td>21.293</td>\n",
       "      <td>0.380</td>\n",
       "      <td>58.175</td>\n",
       "      <td>0.000</td>\n",
       "      <td>2.091</td>\n",
       "      <td>0.190</td>\n",
       "      <td>0.000</td>\n",
       "      <td>0.380</td>\n",
       "      <td>17.490</td>\n",
       "      <td>0.000</td>\n",
       "    </tr>\n",
       "    <tr>\n",
       "      <th>1</th>\n",
       "      <td>0.000</td>\n",
       "      <td>1.000</td>\n",
       "      <td>0.000</td>\n",
       "      <td>3973.000</td>\n",
       "      <td>33.000</td>\n",
       "      <td>24.413</td>\n",
       "      <td>0.000</td>\n",
       "      <td>66.667</td>\n",
       "      <td>6.103</td>\n",
       "      <td>2.817</td>\n",
       "      <td>0.000</td>\n",
       "      <td>0.000</td>\n",
       "      <td>0.000</td>\n",
       "      <td>0.000</td>\n",
       "      <td>0.000</td>\n",
       "    </tr>\n",
       "    <tr>\n",
       "      <th>2</th>\n",
       "      <td>1.000</td>\n",
       "      <td>0.000</td>\n",
       "      <td>0.000</td>\n",
       "      <td>10429.000</td>\n",
       "      <td>45.000</td>\n",
       "      <td>0.000</td>\n",
       "      <td>0.000</td>\n",
       "      <td>100.000</td>\n",
       "      <td>0.000</td>\n",
       "      <td>0.000</td>\n",
       "      <td>0.000</td>\n",
       "      <td>0.000</td>\n",
       "      <td>0.000</td>\n",
       "      <td>0.000</td>\n",
       "      <td>0.000</td>\n",
       "    </tr>\n",
       "    <tr>\n",
       "      <th>3</th>\n",
       "      <td>1.000</td>\n",
       "      <td>0.000</td>\n",
       "      <td>0.000</td>\n",
       "      <td>10104.000</td>\n",
       "      <td>55.000</td>\n",
       "      <td>0.000</td>\n",
       "      <td>0.000</td>\n",
       "      <td>0.000</td>\n",
       "      <td>0.000</td>\n",
       "      <td>0.000</td>\n",
       "      <td>99.662</td>\n",
       "      <td>0.000</td>\n",
       "      <td>0.000</td>\n",
       "      <td>0.000</td>\n",
       "      <td>0.000</td>\n",
       "    </tr>\n",
       "    <tr>\n",
       "      <th>4</th>\n",
       "      <td>1.000</td>\n",
       "      <td>0.000</td>\n",
       "      <td>1.000</td>\n",
       "      <td>6660.000</td>\n",
       "      <td>31.000</td>\n",
       "      <td>0.803</td>\n",
       "      <td>0.000</td>\n",
       "      <td>0.402</td>\n",
       "      <td>96.787</td>\n",
       "      <td>1.606</td>\n",
       "      <td>0.402</td>\n",
       "      <td>0.000</td>\n",
       "      <td>0.000</td>\n",
       "      <td>0.000</td>\n",
       "      <td>0.000</td>\n",
       "    </tr>\n",
       "  </tbody>\n",
       "</table>\n",
       "</div>"
      ],
      "text/plain": [
       "   C(gender)[FEMALE]  C(gender)[MALE]  C(platform)[T.IOS]  Average_Answer  \\\n",
       "0              1.000            0.000               1.000        6626.000   \n",
       "1              0.000            1.000               0.000        3973.000   \n",
       "2              1.000            0.000               0.000       10429.000   \n",
       "3              1.000            0.000               0.000       10104.000   \n",
       "4              1.000            0.000               1.000        6660.000   \n",
       "\n",
       "     Age  Amber  Bethany  Cynthia  David  Desiree   Gina  Kitty  Laurie  \\\n",
       "0 19.000 21.293    0.380   58.175  0.000    2.091  0.190  0.000   0.380   \n",
       "1 33.000 24.413    0.000   66.667  6.103    2.817  0.000  0.000   0.000   \n",
       "2 45.000  0.000    0.000  100.000  0.000    0.000  0.000  0.000   0.000   \n",
       "3 55.000  0.000    0.000    0.000  0.000    0.000 99.662  0.000   0.000   \n",
       "4 31.000  0.803    0.000    0.402 96.787    1.606  0.402  0.000   0.000   \n",
       "\n",
       "     Liz  Samantha  \n",
       "0 17.490     0.000  \n",
       "1  0.000     0.000  \n",
       "2  0.000     0.000  \n",
       "3  0.000     0.000  \n",
       "4  0.000     0.000  "
      ]
     },
     "execution_count": 1585,
     "metadata": {},
     "output_type": "execute_result"
    }
   ],
   "source": [
    "clusterData = dmatrix('Average_Answer + Age + Amber + Bethany + Cynthia + David + Desiree + Gina + Kitty + Laurie + Liz + Samantha + C(gender) + C(platform) + 0', \n",
    "                       dataCleaned, return_type = 'dataframe') \n",
    "clusterData.head()"
   ]
  },
  {
   "cell_type": "code",
   "execution_count": 1586,
   "metadata": {
    "collapsed": false
   },
   "outputs": [
    {
     "data": {
      "text/plain": [
       "KMeans(copy_x=True, init='k-means++', max_iter=300, n_clusters=5, n_init=10,\n",
       "    n_jobs=1, precompute_distances='auto', random_state=None, tol=0.0001,\n",
       "    verbose=0)"
      ]
     },
     "execution_count": 1586,
     "metadata": {},
     "output_type": "execute_result"
    }
   ],
   "source": [
    "\n",
    "scale = StandardScaler()\n",
    "xts = scale.fit(clusterData).transform(clusterData)\n",
    "km = KMeans(n_clusters=5)\n",
    "km.fit(xts)"
   ]
  },
  {
   "cell_type": "code",
   "execution_count": 1587,
   "metadata": {
    "collapsed": false
   },
   "outputs": [
    {
     "data": {
      "text/plain": [
       "[<matplotlib.lines.Line2D at 0x311ee470>]"
      ]
     },
     "execution_count": 1587,
     "metadata": {},
     "output_type": "execute_result"
    },
    {
     "data": {
      "image/png": "[encoded data removed]",
      "text/plain": [
       "<matplotlib.figure.Figure at 0x2f5adf98>"
      ]
     },
     "metadata": {},
     "output_type": "display_data"
    }
   ],
   "source": [
    "# looking at inertia as we change k\n",
    "inertia = []\n",
    "k = []\n",
    "for num in range(1,17):\n",
    "    km = KMeans(n_clusters=num)\n",
    "    km.fit(xts)\n",
    "    k.append(num)\n",
    "    inertia.append(km.inertia_)\n",
    "plt.plot(k, inertia)\n",
    "# clear elbow at around 12 or so"
   ]
  },
  {
   "cell_type": "code",
   "execution_count": 1588,
   "metadata": {
    "collapsed": false
   },
   "outputs": [
    {
     "data": {
      "text/plain": [
       "KMeans(copy_x=True, init='k-means++', max_iter=300, n_clusters=2, n_init=10,\n",
       "    n_jobs=1, precompute_distances='auto', random_state=None, tol=0.0001,\n",
       "    verbose=0)"
      ]
     },
     "execution_count": 1588,
     "metadata": {},
     "output_type": "execute_result"
    }
   ],
   "source": [
    "km = KMeans(n_clusters=2)\n",
    "km.fit(xts)"
   ]
  },
  {
   "cell_type": "code",
   "execution_count": 1589,
   "metadata": {
    "collapsed": false,
    "scrolled": true
   },
   "outputs": [
    {
     "data": {
      "text/html": [
       "<div>\n",
       "<table border=\"1\" class=\"dataframe\">\n",
       "  <thead>\n",
       "    <tr style=\"text-align: right;\">\n",
       "      <th></th>\n",
       "      <th>0</th>\n",
       "      <th>1</th>\n",
       "    </tr>\n",
       "  </thead>\n",
       "  <tbody>\n",
       "    <tr>\n",
       "      <th>C(gender)[FEMALE]</th>\n",
       "      <td>0.000</td>\n",
       "      <td>1.000</td>\n",
       "    </tr>\n",
       "    <tr>\n",
       "      <th>C(gender)[MALE]</th>\n",
       "      <td>1.000</td>\n",
       "      <td>0.000</td>\n",
       "    </tr>\n",
       "    <tr>\n",
       "      <th>C(platform)[T.IOS]</th>\n",
       "      <td>0.688</td>\n",
       "      <td>0.686</td>\n",
       "    </tr>\n",
       "    <tr>\n",
       "      <th>Average_Answer</th>\n",
       "      <td>10360.615</td>\n",
       "      <td>9684.235</td>\n",
       "    </tr>\n",
       "    <tr>\n",
       "      <th>Age</th>\n",
       "      <td>28.670</td>\n",
       "      <td>29.680</td>\n",
       "    </tr>\n",
       "    <tr>\n",
       "      <th>Amber</th>\n",
       "      <td>12.104</td>\n",
       "      <td>17.444</td>\n",
       "    </tr>\n",
       "    <tr>\n",
       "      <th>Bethany</th>\n",
       "      <td>3.290</td>\n",
       "      <td>5.085</td>\n",
       "    </tr>\n",
       "    <tr>\n",
       "      <th>Cynthia</th>\n",
       "      <td>26.671</td>\n",
       "      <td>27.009</td>\n",
       "    </tr>\n",
       "    <tr>\n",
       "      <th>David</th>\n",
       "      <td>9.633</td>\n",
       "      <td>8.592</td>\n",
       "    </tr>\n",
       "    <tr>\n",
       "      <th>Desiree</th>\n",
       "      <td>18.171</td>\n",
       "      <td>16.301</td>\n",
       "    </tr>\n",
       "    <tr>\n",
       "      <th>Gina</th>\n",
       "      <td>5.050</td>\n",
       "      <td>5.027</td>\n",
       "    </tr>\n",
       "    <tr>\n",
       "      <th>Kitty</th>\n",
       "      <td>9.828</td>\n",
       "      <td>7.831</td>\n",
       "    </tr>\n",
       "    <tr>\n",
       "      <th>Laurie</th>\n",
       "      <td>6.043</td>\n",
       "      <td>4.229</td>\n",
       "    </tr>\n",
       "    <tr>\n",
       "      <th>Liz</th>\n",
       "      <td>4.536</td>\n",
       "      <td>3.251</td>\n",
       "    </tr>\n",
       "    <tr>\n",
       "      <th>Samantha</th>\n",
       "      <td>4.032</td>\n",
       "      <td>4.644</td>\n",
       "    </tr>\n",
       "  </tbody>\n",
       "</table>\n",
       "</div>"
      ],
      "text/plain": [
       "                           0        1\n",
       "C(gender)[FEMALE]      0.000    1.000\n",
       "C(gender)[MALE]        1.000    0.000\n",
       "C(platform)[T.IOS]     0.688    0.686\n",
       "Average_Answer     10360.615 9684.235\n",
       "Age                   28.670   29.680\n",
       "Amber                 12.104   17.444\n",
       "Bethany                3.290    5.085\n",
       "Cynthia               26.671   27.009\n",
       "David                  9.633    8.592\n",
       "Desiree               18.171   16.301\n",
       "Gina                   5.050    5.027\n",
       "Kitty                  9.828    7.831\n",
       "Laurie                 6.043    4.229\n",
       "Liz                    4.536    3.251\n",
       "Samantha               4.032    4.644"
      ]
     },
     "execution_count": 1589,
     "metadata": {},
     "output_type": "execute_result"
    }
   ],
   "source": [
    "pd.set_option('display.float_format', lambda x: '%.3f' % x)\n",
    "columns = []\n",
    "#for x in range(0,12):\n",
    "#    collums= {scale.inverse_transform(km.cluster_centers_[x])}\n",
    "#columns\n",
    "#X_train.columns\n",
    "#pd.DataFrame(columns, index=X_train.columns)    \n",
    "columns = {x: scale.inverse_transform(km.cluster_centers_[x]) for x in range(0,2)}\n",
    "pd.DataFrame(columns, index=clusterData.columns)"
   ]
  },
  {
   "cell_type": "code",
   "execution_count": 1590,
   "metadata": {
    "collapsed": false
   },
   "outputs": [],
   "source": [
    "clusterData['clusters']=km.labels_"
   ]
  },
  {
   "cell_type": "code",
   "execution_count": 1591,
   "metadata": {
    "collapsed": false
   },
   "outputs": [],
   "source": [
    "dataCleaned['clusters']= km.labels_"
   ]
  },
  {
   "cell_type": "code",
   "execution_count": 1592,
   "metadata": {
    "collapsed": false
   },
   "outputs": [
    {
     "data": {
      "text/plain": [
       "1    1102\n",
       "0     109\n",
       "dtype: int64"
      ]
     },
     "execution_count": 1592,
     "metadata": {},
     "output_type": "execute_result"
    }
   ],
   "source": [
    "clusterData.clusters.value_counts()"
   ]
  },
  {
   "cell_type": "code",
   "execution_count": null,
   "metadata": {
    "collapsed": false
   },
   "outputs": [],
   "source": []
  },
  {
   "cell_type": "code",
   "execution_count": 1593,
   "metadata": {
    "collapsed": false
   },
   "outputs": [],
   "source": [
    "# Lets see if we use clusters in our data frame to improve performance\n",
    "trainC, testC = train_test_split(dataCleaned, test_size = 0.2)\n"
   ]
  },
  {
   "cell_type": "code",
   "execution_count": 1594,
   "metadata": {
    "collapsed": false
   },
   "outputs": [
    {
     "name": "stdout",
     "output_type": "stream",
     "text": [
      "<class 'pandas.core.frame.DataFrame'>\n",
      "Int64Index: 968 entries, 354 to 773\n",
      "Data columns (total 15 columns):\n",
      "C(gender)[FEMALE]     968 non-null float64\n",
      "C(gender)[MALE]       968 non-null float64\n",
      "C(platform)[T.IOS]    968 non-null float64\n",
      "Average_Answer        968 non-null float64\n",
      "Age                   968 non-null float64\n",
      "Amber                 968 non-null float64\n",
      "Bethany               968 non-null float64\n",
      "Cynthia               968 non-null float64\n",
      "David                 968 non-null float64\n",
      "Desiree               968 non-null float64\n",
      "Gina                  968 non-null float64\n",
      "Kitty                 968 non-null float64\n",
      "Laurie                968 non-null float64\n",
      "Liz                   968 non-null float64\n",
      "Samantha              968 non-null float64\n",
      "dtypes: float64(15)\n",
      "memory usage: 121.0 KB\n"
     ]
    }
   ],
   "source": [
    "y_NOC, X_train_NOC = dmatrices('UserValsFac ~ 0 + Average_Answer + Age + Amber + Bethany + Cynthia + David + Desiree + Gina + Kitty + Laurie + Liz + Samantha + C(gender) + C(platform)', \n",
    "                       trainC, return_type = 'dataframe')\n",
    "X_train_NOC.info()"
   ]
  },
  {
   "cell_type": "code",
   "execution_count": 1595,
   "metadata": {
    "collapsed": false
   },
   "outputs": [
    {
     "name": "stdout",
     "output_type": "stream",
     "text": [
      "<class 'pandas.core.frame.DataFrame'>\n",
      "Int64Index: 968 entries, 354 to 773\n",
      "Data columns (total 16 columns):\n",
      "C(gender)[FEMALE]     968 non-null float64\n",
      "C(gender)[MALE]       968 non-null float64\n",
      "C(platform)[T.IOS]    968 non-null float64\n",
      "C(clusters)[T.1]      968 non-null float64\n",
      "Average_Answer        968 non-null float64\n",
      "Age                   968 non-null float64\n",
      "Amber                 968 non-null float64\n",
      "Bethany               968 non-null float64\n",
      "Cynthia               968 non-null float64\n",
      "David                 968 non-null float64\n",
      "Desiree               968 non-null float64\n",
      "Gina                  968 non-null float64\n",
      "Kitty                 968 non-null float64\n",
      "Laurie                968 non-null float64\n",
      "Liz                   968 non-null float64\n",
      "Samantha              968 non-null float64\n",
      "dtypes: float64(16)\n",
      "memory usage: 128.6 KB\n"
     ]
    }
   ],
   "source": [
    "y, X_train = dmatrices('UserValsFac ~ 0 + Average_Answer + Age + Amber + Bethany + Cynthia + David + Desiree + Gina + Kitty + Laurie + Liz + Samantha + C(gender) + C(platform) + C(clusters)', \n",
    "                       trainC, return_type = 'dataframe')\n",
    "X_train.info()\n"
   ]
  },
  {
   "cell_type": "code",
   "execution_count": 1596,
   "metadata": {
    "collapsed": false
   },
   "outputs": [],
   "source": [
    "scale = StandardScaler()\n",
    "y_NOC = np.ravel(y_NOC)\n",
    "scale = StandardScaler()\n",
    "y = np.ravel(y)"
   ]
  },
  {
   "cell_type": "code",
   "execution_count": 1597,
   "metadata": {
    "collapsed": false
   },
   "outputs": [],
   "source": [
    "X_test_NOC = dmatrix('0 + Average_Answer + Age + Amber + Bethany + Cynthia + David + Desiree + Gina + Kitty + Laurie + Liz + Samantha + C(gender) + C(platform)', \n",
    "                       testC, return_type = 'dataframe')\n",
    "X_test = dmatrix('0 + Average_Answer + Age + Amber + Bethany + Cynthia + David + Desiree + Gina + Kitty + Laurie + Liz + Samantha + C(gender) + C(platform) + C(clusters)', \n",
    "                       testC, return_type = 'dataframe')"
   ]
  },
  {
   "cell_type": "code",
   "execution_count": 1599,
   "metadata": {
    "collapsed": false
   },
   "outputs": [
    {
     "data": {
      "text/plain": [
       "RandomForestClassifier(bootstrap=True, class_weight=None, criterion='gini',\n",
       "            max_depth=None, max_features='sqrt', max_leaf_nodes=None,\n",
       "            min_samples_leaf=1, min_samples_split=2,\n",
       "            min_weight_fraction_leaf=0.0, n_estimators=10, n_jobs=1,\n",
       "            oob_score=False, random_state=None, verbose=0,\n",
       "            warm_start=False)"
      ]
     },
     "execution_count": 1599,
     "metadata": {},
     "output_type": "execute_result"
    }
   ],
   "source": [
    "svcNOC = SVC(kernel='rbf')\n",
    "svcNOC.fit(X_train_NOC, y_NOC)\n",
    "knnNOC = KNeighborsClassifier(n_neighbors=5)\n",
    "knnNOC.fit(X_train_NOC, y_NOC)\n",
    "dcNOC = DummyClassifier()\n",
    "dcNOC.fit(X_train_NOC, y_NOC)\n",
    "rfNOC = RandomForestClassifier(max_features='sqrt')\n",
    "rfNOC.fit(X_train_NOC, y_NOC)"
   ]
  },
  {
   "cell_type": "code",
   "execution_count": 1600,
   "metadata": {
    "collapsed": false
   },
   "outputs": [
    {
     "data": {
      "text/plain": [
       "RandomForestClassifier(bootstrap=True, class_weight=None, criterion='gini',\n",
       "            max_depth=None, max_features='sqrt', max_leaf_nodes=None,\n",
       "            min_samples_leaf=1, min_samples_split=2,\n",
       "            min_weight_fraction_leaf=0.0, n_estimators=10, n_jobs=1,\n",
       "            oob_score=False, random_state=None, verbose=0,\n",
       "            warm_start=False)"
      ]
     },
     "execution_count": 1600,
     "metadata": {},
     "output_type": "execute_result"
    }
   ],
   "source": [
    "#rf = RandomForestClassifier(max_features='sqrt')\n",
    "#rf.fit(X_train, y)\n",
    "# make our models\n",
    "svc = SVC(kernel='rbf')\n",
    "svc.fit(X_train, y)\n",
    "knn = KNeighborsClassifier(n_neighbors=5)\n",
    "knn.fit(X_train, y)\n",
    "dc = DummyClassifier()\n",
    "dc.fit(X_train, y)\n",
    "rf = RandomForestClassifier(max_features='sqrt')\n",
    "rf.fit(X_train, y)"
   ]
  },
  {
   "cell_type": "code",
   "execution_count": 1601,
   "metadata": {
    "collapsed": false
   },
   "outputs": [
    {
     "name": "stdout",
     "output_type": "stream",
     "text": [
      "With Clusters: Benchmark classification performance is 0.390946502058\n",
      "Without Clusters: Benchmark classification performance is 0.366255144033\n",
      "With Clusters: KNN classification performance is 0.423868312757\n",
      "Without Clusters: KNN classification performance is 0.423868312757\n",
      "With Clusters: SVC classification performance is 0.378600823045\n",
      "Without Clusters: SVC classification performance is 0.378600823045\n",
      "With Clusters: Random Forest classification performance is 0.609053497942\n",
      "Without Clusters: Random Forest classification performance is 0.670781893004\n"
     ]
    }
   ],
   "source": [
    "#predicted = rf.predict(X_test)\n",
    "#print accuracy_score(testC['UserValsFac'],predicted)\n",
    "# check our recall scores\n",
    "print 'With Clusters: Benchmark classification performance is {}'.format(accuracy_score(testC['UserValsFac'],dc.predict(X_test)))\n",
    "print 'Without Clusters: Benchmark classification performance is {}'.format(accuracy_score(testC['UserValsFac'],dcNOC.predict(X_test_NOC)))\n",
    "print 'With Clusters: KNN classification performance is {}'.format(accuracy_score(testC['UserValsFac'],knn.predict(X_test)))\n",
    "print 'Without Clusters: KNN classification performance is {}'.format(accuracy_score(testC['UserValsFac'],knnNOC.predict(X_test_NOC)))\n",
    "print 'With Clusters: SVC classification performance is {}'.format(accuracy_score(testC['UserValsFac'],svc.predict(X_test)))\n",
    "print 'Without Clusters: SVC classification performance is {}'.format(accuracy_score(testC['UserValsFac'],svcNOC.predict(X_test_NOC)))\n",
    "print 'With Clusters: Random Forest classification performance is {}'.format(accuracy_score(testC['UserValsFac'],rf.predict(X_test)))\n",
    "print 'Without Clusters: Random Forest classification performance is {}'.format(accuracy_score(testC['UserValsFac'],rfNOC.predict(X_test_NOC)))"
   ]
  },
  {
   "cell_type": "code",
   "execution_count": null,
   "metadata": {
    "collapsed": true
   },
   "outputs": [],
   "source": []
  },
  {
   "cell_type": "code",
   "execution_count": 1167,
   "metadata": {
    "collapsed": false
   },
   "outputs": [
    {
     "data": {
      "text/html": [
       "<div>\n",
       "<table border=\"1\" class=\"dataframe\">\n",
       "  <thead>\n",
       "    <tr style=\"text-align: right;\">\n",
       "      <th></th>\n",
       "      <th>importance</th>\n",
       "    </tr>\n",
       "  </thead>\n",
       "  <tbody>\n",
       "    <tr>\n",
       "      <th>C(gender)[MALE]</th>\n",
       "      <td>0.005</td>\n",
       "    </tr>\n",
       "    <tr>\n",
       "      <th>C(gender)[FEMALE]</th>\n",
       "      <td>0.008</td>\n",
       "    </tr>\n",
       "    <tr>\n",
       "      <th>C(clusters)[T.1]</th>\n",
       "      <td>0.008</td>\n",
       "    </tr>\n",
       "    <tr>\n",
       "      <th>Liz</th>\n",
       "      <td>0.023</td>\n",
       "    </tr>\n",
       "    <tr>\n",
       "      <th>C(platform)[T.IOS]</th>\n",
       "      <td>0.027</td>\n",
       "    </tr>\n",
       "    <tr>\n",
       "      <th>Samantha</th>\n",
       "      <td>0.029</td>\n",
       "    </tr>\n",
       "    <tr>\n",
       "      <th>Bethany</th>\n",
       "      <td>0.035</td>\n",
       "    </tr>\n",
       "    <tr>\n",
       "      <th>Laurie</th>\n",
       "      <td>0.042</td>\n",
       "    </tr>\n",
       "    <tr>\n",
       "      <th>Gina</th>\n",
       "      <td>0.047</td>\n",
       "    </tr>\n",
       "    <tr>\n",
       "      <th>Amber</th>\n",
       "      <td>0.057</td>\n",
       "    </tr>\n",
       "    <tr>\n",
       "      <th>David</th>\n",
       "      <td>0.069</td>\n",
       "    </tr>\n",
       "    <tr>\n",
       "      <th>Desiree</th>\n",
       "      <td>0.071</td>\n",
       "    </tr>\n",
       "    <tr>\n",
       "      <th>Kitty</th>\n",
       "      <td>0.077</td>\n",
       "    </tr>\n",
       "    <tr>\n",
       "      <th>Cynthia</th>\n",
       "      <td>0.123</td>\n",
       "    </tr>\n",
       "    <tr>\n",
       "      <th>Age</th>\n",
       "      <td>0.160</td>\n",
       "    </tr>\n",
       "    <tr>\n",
       "      <th>Average_Answer</th>\n",
       "      <td>0.220</td>\n",
       "    </tr>\n",
       "  </tbody>\n",
       "</table>\n",
       "</div>"
      ],
      "text/plain": [
       "                    importance\n",
       "C(gender)[MALE]          0.005\n",
       "C(gender)[FEMALE]        0.008\n",
       "C(clusters)[T.1]         0.008\n",
       "Liz                      0.023\n",
       "C(platform)[T.IOS]       0.027\n",
       "Samantha                 0.029\n",
       "Bethany                  0.035\n",
       "Laurie                   0.042\n",
       "Gina                     0.047\n",
       "Amber                    0.057\n",
       "David                    0.069\n",
       "Desiree                  0.071\n",
       "Kitty                    0.077\n",
       "Cynthia                  0.123\n",
       "Age                      0.160\n",
       "Average_Answer           0.220"
      ]
     },
     "execution_count": 1167,
     "metadata": {},
     "output_type": "execute_result"
    }
   ],
   "source": [
    "# Same as before with around 83% or so accuracy lets see what is important now\n",
    "d = {'importance': rf.feature_importances_}\n",
    "pd.DataFrame(d, index=X_train.columns).sort('importance')"
   ]
  },
  {
   "cell_type": "code",
   "execution_count": 1168,
   "metadata": {
    "collapsed": true
   },
   "outputs": [],
   "source": [
    "# So clustering does not help with predictions but lets instead now do logistic regression to see how accurately we can predict\n",
    "# if a user will be a paying user or not!\n"
   ]
  },
  {
   "cell_type": "code",
   "execution_count": 1169,
   "metadata": {
    "collapsed": false
   },
   "outputs": [
    {
     "name": "stderr",
     "output_type": "stream",
     "text": [
      "C:\\Users\\Vipul\\Anaconda\\lib\\site-packages\\IPython\\kernel\\__main__.py:6: SettingWithCopyWarning: \n",
      "A value is trying to be set on a copy of a slice from a DataFrame.\n",
      "Try using .loc[row_indexer,col_indexer] = value instead\n",
      "\n",
      "See the the caveats in the documentation: http://pandas.pydata.org/pandas-docs/stable/indexing.html#indexing-view-versus-copy\n"
     ]
    }
   ],
   "source": [
    "PayorFree=[]\n",
    "for each in dataCleanedOld.UserValue:\n",
    "    if (each == 'Low Value'):\n",
    "        PayorFree.append(0)\n",
    "    else: PayorFree.append(1)\n",
    "dataCleanedOld['Paid'] = PayorFree\n"
   ]
  },
  {
   "cell_type": "code",
   "execution_count": 1170,
   "metadata": {
    "collapsed": true
   },
   "outputs": [],
   "source": [
    "train, test = train_test_split(dataCleanedOld, test_size = 0.2)\n"
   ]
  },
  {
   "cell_type": "code",
   "execution_count": 1171,
   "metadata": {
    "collapsed": true
   },
   "outputs": [],
   "source": [
    "#y, X = dmatrices('Paid ~ 0 + Age + C(platform) + C(gender) + Average_Answer + Amber + Bethany + Cynthia + David + Desiree + Gina + Kitty + Laurie + Liz + Samantha', train, return_type='dataframe')\n",
    "y, X = dmatrices('Paid ~ Age + C(platform) + C(gender) + Average_Answer', train, return_type='dataframe')\n"
   ]
  },
  {
   "cell_type": "code",
   "execution_count": 1172,
   "metadata": {
    "collapsed": false
   },
   "outputs": [
    {
     "data": {
      "text/html": [
       "<div>\n",
       "<table border=\"1\" class=\"dataframe\">\n",
       "  <thead>\n",
       "    <tr style=\"text-align: right;\">\n",
       "      <th></th>\n",
       "      <th>UserKey</th>\n",
       "      <th>Average_Answer</th>\n",
       "      <th>UserValue</th>\n",
       "      <th>Amber</th>\n",
       "      <th>Bethany</th>\n",
       "      <th>Cynthia</th>\n",
       "      <th>David</th>\n",
       "      <th>Desiree</th>\n",
       "      <th>Gina</th>\n",
       "      <th>Kitty</th>\n",
       "      <th>Laurie</th>\n",
       "      <th>Liz</th>\n",
       "      <th>Samantha</th>\n",
       "      <th>gender</th>\n",
       "      <th>platform</th>\n",
       "      <th>Age</th>\n",
       "      <th>UserValsFac</th>\n",
       "      <th>Paid</th>\n",
       "    </tr>\n",
       "  </thead>\n",
       "  <tbody>\n",
       "    <tr>\n",
       "      <th>5772</th>\n",
       "      <td>OydmWiNDxzbBDm251UmQpEa9tBQG0cLk@talkpok.appsp...</td>\n",
       "      <td>1017</td>\n",
       "      <td>Low Value</td>\n",
       "      <td>100.000</td>\n",
       "      <td>0.000</td>\n",
       "      <td>0.000</td>\n",
       "      <td>0.000</td>\n",
       "      <td>0.000</td>\n",
       "      <td>0.000</td>\n",
       "      <td>0.000</td>\n",
       "      <td>0.000</td>\n",
       "      <td>0.000</td>\n",
       "      <td>0.000</td>\n",
       "      <td>FEMALE</td>\n",
       "      <td>IOS</td>\n",
       "      <td>32</td>\n",
       "      <td>4</td>\n",
       "      <td>0</td>\n",
       "    </tr>\n",
       "    <tr>\n",
       "      <th>5773</th>\n",
       "      <td>NMKUd2ZjRkk8C5FpI60oKTPuogaP1ghq@talkpok.appsp...</td>\n",
       "      <td>270</td>\n",
       "      <td>Low Value</td>\n",
       "      <td>0.000</td>\n",
       "      <td>0.000</td>\n",
       "      <td>0.000</td>\n",
       "      <td>100.000</td>\n",
       "      <td>0.000</td>\n",
       "      <td>0.000</td>\n",
       "      <td>0.000</td>\n",
       "      <td>0.000</td>\n",
       "      <td>0.000</td>\n",
       "      <td>0.000</td>\n",
       "      <td>MALE</td>\n",
       "      <td>IOS</td>\n",
       "      <td>18</td>\n",
       "      <td>4</td>\n",
       "      <td>0</td>\n",
       "    </tr>\n",
       "    <tr>\n",
       "      <th>5774</th>\n",
       "      <td>RJouF688FULJbrwQzuk0i2VZlzu8m5Vc@talkpok.appsp...</td>\n",
       "      <td>1877</td>\n",
       "      <td>Low Value</td>\n",
       "      <td>0.000</td>\n",
       "      <td>0.000</td>\n",
       "      <td>0.000</td>\n",
       "      <td>0.000</td>\n",
       "      <td>0.000</td>\n",
       "      <td>0.000</td>\n",
       "      <td>0.000</td>\n",
       "      <td>0.000</td>\n",
       "      <td>0.000</td>\n",
       "      <td>100.000</td>\n",
       "      <td>FEMALE</td>\n",
       "      <td>ANDROID</td>\n",
       "      <td>44</td>\n",
       "      <td>4</td>\n",
       "      <td>0</td>\n",
       "    </tr>\n",
       "    <tr>\n",
       "      <th>5775</th>\n",
       "      <td>sZjalFGmfo6WHKxFcrqbAVPC3vCiuxWV@talkpok.appsp...</td>\n",
       "      <td>303</td>\n",
       "      <td>Low Value</td>\n",
       "      <td>100.000</td>\n",
       "      <td>0.000</td>\n",
       "      <td>0.000</td>\n",
       "      <td>0.000</td>\n",
       "      <td>0.000</td>\n",
       "      <td>0.000</td>\n",
       "      <td>0.000</td>\n",
       "      <td>0.000</td>\n",
       "      <td>0.000</td>\n",
       "      <td>0.000</td>\n",
       "      <td>FEMALE</td>\n",
       "      <td>IOS</td>\n",
       "      <td>27</td>\n",
       "      <td>4</td>\n",
       "      <td>0</td>\n",
       "    </tr>\n",
       "    <tr>\n",
       "      <th>5776</th>\n",
       "      <td>XPtvETDN8U3XawFAvI3h8SpzhXRqxJ25@talkpok.appsp...</td>\n",
       "      <td>627</td>\n",
       "      <td>Low Value</td>\n",
       "      <td>0.000</td>\n",
       "      <td>0.000</td>\n",
       "      <td>0.000</td>\n",
       "      <td>100.000</td>\n",
       "      <td>0.000</td>\n",
       "      <td>0.000</td>\n",
       "      <td>0.000</td>\n",
       "      <td>0.000</td>\n",
       "      <td>0.000</td>\n",
       "      <td>0.000</td>\n",
       "      <td>FEMALE</td>\n",
       "      <td>IOS</td>\n",
       "      <td>34</td>\n",
       "      <td>4</td>\n",
       "      <td>0</td>\n",
       "    </tr>\n",
       "  </tbody>\n",
       "</table>\n",
       "</div>"
      ],
      "text/plain": [
       "                                                UserKey  Average_Answer  \\\n",
       "5772  OydmWiNDxzbBDm251UmQpEa9tBQG0cLk@talkpok.appsp...            1017   \n",
       "5773  NMKUd2ZjRkk8C5FpI60oKTPuogaP1ghq@talkpok.appsp...             270   \n",
       "5774  RJouF688FULJbrwQzuk0i2VZlzu8m5Vc@talkpok.appsp...            1877   \n",
       "5775  sZjalFGmfo6WHKxFcrqbAVPC3vCiuxWV@talkpok.appsp...             303   \n",
       "5776  XPtvETDN8U3XawFAvI3h8SpzhXRqxJ25@talkpok.appsp...             627   \n",
       "\n",
       "      UserValue   Amber  Bethany  Cynthia   David  Desiree  Gina  Kitty  \\\n",
       "5772  Low Value 100.000    0.000    0.000   0.000    0.000 0.000  0.000   \n",
       "5773  Low Value   0.000    0.000    0.000 100.000    0.000 0.000  0.000   \n",
       "5774  Low Value   0.000    0.000    0.000   0.000    0.000 0.000  0.000   \n",
       "5775  Low Value 100.000    0.000    0.000   0.000    0.000 0.000  0.000   \n",
       "5776  Low Value   0.000    0.000    0.000 100.000    0.000 0.000  0.000   \n",
       "\n",
       "      Laurie   Liz  Samantha  gender platform  Age  UserValsFac  Paid  \n",
       "5772   0.000 0.000     0.000  FEMALE      IOS   32            4     0  \n",
       "5773   0.000 0.000     0.000    MALE      IOS   18            4     0  \n",
       "5774   0.000 0.000   100.000  FEMALE  ANDROID   44            4     0  \n",
       "5775   0.000 0.000     0.000  FEMALE      IOS   27            4     0  \n",
       "5776   0.000 0.000     0.000  FEMALE      IOS   34            4     0  "
      ]
     },
     "execution_count": 1172,
     "metadata": {},
     "output_type": "execute_result"
    }
   ],
   "source": [
    "y = np.ravel(y)\n",
    "dataCleanedOld.tail()"
   ]
  },
  {
   "cell_type": "code",
   "execution_count": 1173,
   "metadata": {
    "collapsed": true
   },
   "outputs": [],
   "source": [
    "scaler = StandardScaler(copy=True)\n",
    "X_clean = scaler.fit(X).transform(X)"
   ]
  },
  {
   "cell_type": "code",
   "execution_count": 1174,
   "metadata": {
    "collapsed": false
   },
   "outputs": [
    {
     "name": "stdout",
     "output_type": "stream",
     "text": [
      "[[ 0.          0.03177153 -0.07410683  0.37423903  0.05909501]]\n"
     ]
    }
   ],
   "source": [
    "# build our initial model\n",
    "lr = LogisticRegression('l1')\n",
    "lr.fit(X_clean, y)\n",
    "dc = DummyClassifier()\n",
    "dc.fit(X_clean, y)\n",
    "svc = SVC(kernel='rbf')\n",
    "svc.fit(X_clean, y)\n",
    "knn = KNeighborsClassifier(n_neighbors=5)\n",
    "knn.fit(X_clean, y)\n",
    "rf = RandomForestClassifier(max_features='sqrt')\n",
    "rf.fit(X_clean, y)\n",
    "\n",
    "print lr.coef_"
   ]
  },
  {
   "cell_type": "code",
   "execution_count": 1175,
   "metadata": {
    "collapsed": false
   },
   "outputs": [],
   "source": [
    "#X_train = dmatrix('Age + C(platform) + C(gender) + Average_Answer + Amber + Bethany + Cynthia + David + Desiree + Gina + Kitty + Laurie + Liz + Samantha', test, return_type='dataframe')\n",
    "X_train = dmatrix('Age + C(platform) + C(gender) + Average_Answer', test, return_type='dataframe')\n",
    "\n",
    "X_train = scaler.fit(X).transform(X_train)"
   ]
  },
  {
   "cell_type": "code",
   "execution_count": 1176,
   "metadata": {
    "collapsed": false
   },
   "outputs": [
    {
     "name": "stdout",
     "output_type": "stream",
     "text": [
      "Benchmark classification performance is 0.655233069481\n",
      "Logistic Regression classification performance is 0.774846086192\n",
      "KNN classification performance is 0.749340369393\n",
      "SVC classification performance is 0.775725593668\n",
      "Random Forest classification performance is 0.730870712401\n"
     ]
    }
   ],
   "source": [
    "#predicted = lr.predict(X_train)\n",
    "#print accuracy_score(predicted,test['Paid'])\n",
    "print 'Benchmark classification performance is {}'.format(accuracy_score(test['Paid'],dc.predict(X_train)))\n",
    "print 'Logistic Regression classification performance is {}'.format(accuracy_score(test['Paid'],lr.predict(X_train)))\n",
    "print 'KNN classification performance is {}'.format(accuracy_score(test['Paid'],knn.predict(X_train)))\n",
    "print 'SVC classification performance is {}'.format(accuracy_score(test['Paid'],svc.predict(X_train)))\n",
    "print 'Random Forest classification performance is {}'.format(accuracy_score(test['Paid'],rf.predict(X_train)))"
   ]
  },
  {
   "cell_type": "code",
   "execution_count": 1177,
   "metadata": {
    "collapsed": false
   },
   "outputs": [
    {
     "data": {
      "text/html": [
       "<div>\n",
       "<table border=\"1\" class=\"dataframe\">\n",
       "  <thead>\n",
       "    <tr style=\"text-align: right;\">\n",
       "      <th></th>\n",
       "      <th>Coefficients</th>\n",
       "      <th>Features</th>\n",
       "    </tr>\n",
       "  </thead>\n",
       "  <tbody>\n",
       "    <tr>\n",
       "      <th>0</th>\n",
       "      <td>0.000</td>\n",
       "      <td>Intercept</td>\n",
       "    </tr>\n",
       "    <tr>\n",
       "      <th>1</th>\n",
       "      <td>0.032</td>\n",
       "      <td>C(platform)[T.IOS]</td>\n",
       "    </tr>\n",
       "    <tr>\n",
       "      <th>2</th>\n",
       "      <td>-0.074</td>\n",
       "      <td>C(gender)[T.MALE]</td>\n",
       "    </tr>\n",
       "    <tr>\n",
       "      <th>3</th>\n",
       "      <td>0.374</td>\n",
       "      <td>Age</td>\n",
       "    </tr>\n",
       "    <tr>\n",
       "      <th>4</th>\n",
       "      <td>0.059</td>\n",
       "      <td>Average_Answer</td>\n",
       "    </tr>\n",
       "  </tbody>\n",
       "</table>\n",
       "</div>"
      ],
      "text/plain": [
       "   Coefficients            Features\n",
       "0         0.000           Intercept\n",
       "1         0.032  C(platform)[T.IOS]\n",
       "2        -0.074   C(gender)[T.MALE]\n",
       "3         0.374                 Age\n",
       "4         0.059      Average_Answer"
      ]
     },
     "execution_count": 1177,
     "metadata": {},
     "output_type": "execute_result"
    }
   ],
   "source": [
    "# make a dataframe to view the coefficients of our model\n",
    "d = {'Coefficients': lr.coef_[0], 'Features': X.columns}\n",
    "pd.DataFrame(d, columns=['Coefficients', 'Features'])"
   ]
  },
  {
   "cell_type": "code",
   "execution_count": 1178,
   "metadata": {
    "collapsed": false
   },
   "outputs": [
    {
     "data": {
      "text/html": [
       "<div>\n",
       "<table border=\"1\" class=\"dataframe\">\n",
       "  <thead>\n",
       "    <tr style=\"text-align: right;\">\n",
       "      <th></th>\n",
       "      <th>Coefficients</th>\n",
       "      <th>Features</th>\n",
       "    </tr>\n",
       "  </thead>\n",
       "  <tbody>\n",
       "    <tr>\n",
       "      <th>0</th>\n",
       "      <td>1.000</td>\n",
       "      <td>Intercept</td>\n",
       "    </tr>\n",
       "    <tr>\n",
       "      <th>1</th>\n",
       "      <td>1.032</td>\n",
       "      <td>C(platform)[T.IOS]</td>\n",
       "    </tr>\n",
       "    <tr>\n",
       "      <th>2</th>\n",
       "      <td>0.929</td>\n",
       "      <td>C(gender)[T.MALE]</td>\n",
       "    </tr>\n",
       "    <tr>\n",
       "      <th>3</th>\n",
       "      <td>1.454</td>\n",
       "      <td>Age</td>\n",
       "    </tr>\n",
       "    <tr>\n",
       "      <th>4</th>\n",
       "      <td>1.061</td>\n",
       "      <td>Average_Answer</td>\n",
       "    </tr>\n",
       "  </tbody>\n",
       "</table>\n",
       "</div>"
      ],
      "text/plain": [
       "   Coefficients            Features\n",
       "0         1.000           Intercept\n",
       "1         1.032  C(platform)[T.IOS]\n",
       "2         0.929   C(gender)[T.MALE]\n",
       "3         1.454                 Age\n",
       "4         1.061      Average_Answer"
      ]
     },
     "execution_count": 1178,
     "metadata": {},
     "output_type": "execute_result"
    }
   ],
   "source": [
    "d = {'Coefficients': np.exp(lr.coef_[0]), 'Features': X.columns}\n",
    "pd.DataFrame(d, columns=['Coefficients', 'Features'])"
   ]
  },
  {
   "cell_type": "code",
   "execution_count": 1179,
   "metadata": {
    "collapsed": false
   },
   "outputs": [
    {
     "data": {
      "text/plain": [
       "array([ 0.2759494 ,  0.25238745])"
      ]
     },
     "execution_count": 1179,
     "metadata": {},
     "output_type": "execute_result"
    }
   ],
   "source": [
    "# Lets do PCA to visualize this\n",
    "from sklearn.decomposition import RandomizedPCA\n",
    "pca = RandomizedPCA(n_components=2)\n",
    "pca.fit(X_clean)\n",
    "pca.explained_variance_ratio_"
   ]
  },
  {
   "cell_type": "code",
   "execution_count": 1180,
   "metadata": {
    "collapsed": false
   },
   "outputs": [
    {
     "data": {
      "image/png": "[encoded data removed]",
      "text/plain": [
       "<matplotlib.figure.Figure at 0x2d23f9e8>"
      ]
     },
     "metadata": {},
     "output_type": "display_data"
    }
   ],
   "source": [
    "comp = pca.components_\n",
    "\n",
    "plt.style.use('ggplot')\n",
    "plt.title('Visualizing Psychic Data')\n",
    "plt.xlim(-1.0,1.0)\n",
    "plt.ylim(-0.5, 1.0)\n",
    "for index, feature in enumerate(X.columns):\n",
    "    plt.arrow(0, 0, comp[0][index], comp[1][index], feature, color='red',\n",
    "             fc=\"k\", ec=\"k\",head_width=0.05, head_length=0.1)\n",
    "for index, feature in enumerate(X.columns):\n",
    "    plt.text(comp[0][index], comp[1][index], feature, color='red')"
   ]
  },
  {
   "cell_type": "code",
   "execution_count": 1045,
   "metadata": {
    "collapsed": false
   },
   "outputs": [
    {
     "name": "stderr",
     "output_type": "stream",
     "text": [
      "C:\\Users\\Vipul\\Anaconda\\lib\\site-packages\\IPython\\kernel\\__main__.py:18: SettingWithCopyWarning: \n",
      "A value is trying to be set on a copy of a slice from a DataFrame.\n",
      "Try using .loc[row_indexer,col_indexer] = value instead\n",
      "\n",
      "See the the caveats in the documentation: http://pandas.pydata.org/pandas-docs/stable/indexing.html#indexing-view-versus-copy\n"
     ]
    }
   ],
   "source": [
    "# Lets add a feature where we take the top psychic of each user and use them to figure out if we can figure out who will pay or not\n",
    "\n",
    "favPsychic = []\n",
    "for Amber, Bethany, Cynthia, David, Desiree, Gina, Kitty, Laurie, Liz, Samantha in zip(dataCleanedOld.Amber, dataCleanedOld.Bethany, dataCleanedOld.Cynthia, dataCleanedOld.David, dataCleanedOld.Desiree, dataCleanedOld.Gina, dataCleanedOld.Kitty, dataCleanedOld.Laurie, dataCleanedOld.Liz, dataCleanedOld.Samantha):\n",
    "    theMax = max(Amber, Bethany, Cynthia, David, Desiree, Gina, Kitty, Laurie, Liz, Samantha)\n",
    "    if Amber == theMax: \n",
    "        favPsychic.append('Amber')\n",
    "    elif Bethany == theMax: favPsychic.append('Bethany')\n",
    "    elif Cynthia == theMax: favPsychic.append('Cynthia')\n",
    "    elif David == theMax: favPsychic.append('David')\n",
    "    elif Desiree == theMax: favPsychic.append('Desiree')\n",
    "    elif Gina == theMax: favPsychic.append('Gina')\n",
    "    elif Kitty == theMax: favPsychic.append('Kitty')\n",
    "    elif Laurie == theMax: favPsychic.append('Laurie')\n",
    "    elif Liz == theMax: favPsychic.append('Liz')\n",
    "    elif Samantha == theMax: favPsychic.append('Samantha')\n",
    "    \n",
    "dataCleanedOld['favPsychic'] = favPsychic "
   ]
  },
  {
   "cell_type": "code",
   "execution_count": 1046,
   "metadata": {
    "collapsed": true
   },
   "outputs": [],
   "source": [
    "train, test = train_test_split(dataCleanedOld, test_size = 0.2)\n",
    "y, X = dmatrices('Paid ~ 0 + Age + C(platform) + C(gender) + Average_Answer + C(favPsychic)', train, return_type='dataframe')\n",
    "y = np.ravel(y)\n",
    "scaler = StandardScaler(copy=True)\n",
    "X_clean = scaler.fit(X).transform(X)"
   ]
  },
  {
   "cell_type": "code",
   "execution_count": 1048,
   "metadata": {
    "collapsed": false
   },
   "outputs": [
    {
     "data": {
      "text/plain": [
       "RandomForestClassifier(bootstrap=True, class_weight=None, criterion='gini',\n",
       "            max_depth=None, max_features='sqrt', max_leaf_nodes=None,\n",
       "            min_samples_leaf=1, min_samples_split=2,\n",
       "            min_weight_fraction_leaf=0.0, n_estimators=10, n_jobs=1,\n",
       "            oob_score=False, random_state=None, verbose=0,\n",
       "            warm_start=False)"
      ]
     },
     "execution_count": 1048,
     "metadata": {},
     "output_type": "execute_result"
    }
   ],
   "source": [
    "lr = LogisticRegression('l1')\n",
    "lr.fit(X_clean, y)\n",
    "dc = DummyClassifier()\n",
    "dc.fit(X_clean, y)\n",
    "svc = SVC(kernel='rbf')\n",
    "svc.fit(X_clean, y)\n",
    "knn = KNeighborsClassifier(n_neighbors=5)\n",
    "knn.fit(X_clean, y)\n",
    "rf = RandomForestClassifier(max_features='sqrt')\n",
    "rf.fit(X_clean, y)\n"
   ]
  },
  {
   "cell_type": "code",
   "execution_count": 1049,
   "metadata": {
    "collapsed": false
   },
   "outputs": [],
   "source": [
    "X_train = dmatrix('Age + C(platform) + C(gender) + Average_Answer + C(favPsychic)', test, return_type='dataframe')\n",
    "\n",
    "X_train = scaler.fit(X).transform(X_train)"
   ]
  },
  {
   "cell_type": "code",
   "execution_count": 1050,
   "metadata": {
    "collapsed": false
   },
   "outputs": [
    {
     "name": "stdout",
     "output_type": "stream",
     "text": [
      "Benchmark classification performance is 0.639401934916\n",
      "Logistic Regression classification performance is 0.774846086192\n",
      "KNN classification performance is 0.737906772208\n",
      "SVC classification performance is 0.773966578716\n",
      "Random Forest classification performance is 0.744063324538\n"
     ]
    }
   ],
   "source": [
    "print 'Benchmark classification performance is {}'.format(accuracy_score(test['Paid'],dc.predict(X_train)))\n",
    "print 'Logistic Regression classification performance is {}'.format(accuracy_score(test['Paid'],lr.predict(X_train)))\n",
    "print 'KNN classification performance is {}'.format(accuracy_score(test['Paid'],knn.predict(X_train)))\n",
    "print 'SVC classification performance is {}'.format(accuracy_score(test['Paid'],svc.predict(X_train)))\n",
    "print 'Random Forest classification performance is {}'.format(accuracy_score(test['Paid'],rf.predict(X_train)))"
   ]
  },
  {
   "cell_type": "code",
   "execution_count": 1051,
   "metadata": {
    "collapsed": false
   },
   "outputs": [
    {
     "data": {
      "text/html": [
       "<div>\n",
       "<table border=\"1\" class=\"dataframe\">\n",
       "  <thead>\n",
       "    <tr style=\"text-align: right;\">\n",
       "      <th></th>\n",
       "      <th>Coefficients</th>\n",
       "      <th>Features</th>\n",
       "    </tr>\n",
       "  </thead>\n",
       "  <tbody>\n",
       "    <tr>\n",
       "      <th>0</th>\n",
       "      <td>0.992</td>\n",
       "      <td>C(platform)[ANDROID]</td>\n",
       "    </tr>\n",
       "    <tr>\n",
       "      <th>1</th>\n",
       "      <td>1.028</td>\n",
       "      <td>C(platform)[IOS]</td>\n",
       "    </tr>\n",
       "    <tr>\n",
       "      <th>2</th>\n",
       "      <td>0.916</td>\n",
       "      <td>C(gender)[T.MALE]</td>\n",
       "    </tr>\n",
       "    <tr>\n",
       "      <th>3</th>\n",
       "      <td>1.124</td>\n",
       "      <td>C(favPsychic)[T.Bethany]</td>\n",
       "    </tr>\n",
       "    <tr>\n",
       "      <th>4</th>\n",
       "      <td>0.992</td>\n",
       "      <td>C(favPsychic)[T.Cynthia]</td>\n",
       "    </tr>\n",
       "    <tr>\n",
       "      <th>5</th>\n",
       "      <td>1.170</td>\n",
       "      <td>C(favPsychic)[T.David]</td>\n",
       "    </tr>\n",
       "    <tr>\n",
       "      <th>6</th>\n",
       "      <td>1.098</td>\n",
       "      <td>C(favPsychic)[T.Desiree]</td>\n",
       "    </tr>\n",
       "    <tr>\n",
       "      <th>7</th>\n",
       "      <td>1.049</td>\n",
       "      <td>C(favPsychic)[T.Gina]</td>\n",
       "    </tr>\n",
       "    <tr>\n",
       "      <th>8</th>\n",
       "      <td>0.963</td>\n",
       "      <td>C(favPsychic)[T.Kitty]</td>\n",
       "    </tr>\n",
       "    <tr>\n",
       "      <th>9</th>\n",
       "      <td>0.947</td>\n",
       "      <td>C(favPsychic)[T.Laurie]</td>\n",
       "    </tr>\n",
       "    <tr>\n",
       "      <th>10</th>\n",
       "      <td>0.963</td>\n",
       "      <td>C(favPsychic)[T.Liz]</td>\n",
       "    </tr>\n",
       "    <tr>\n",
       "      <th>11</th>\n",
       "      <td>0.930</td>\n",
       "      <td>C(favPsychic)[T.Samantha]</td>\n",
       "    </tr>\n",
       "    <tr>\n",
       "      <th>12</th>\n",
       "      <td>1.427</td>\n",
       "      <td>Age</td>\n",
       "    </tr>\n",
       "    <tr>\n",
       "      <th>13</th>\n",
       "      <td>1.050</td>\n",
       "      <td>Average_Answer</td>\n",
       "    </tr>\n",
       "  </tbody>\n",
       "</table>\n",
       "</div>"
      ],
      "text/plain": [
       "    Coefficients                   Features\n",
       "0          0.992       C(platform)[ANDROID]\n",
       "1          1.028           C(platform)[IOS]\n",
       "2          0.916          C(gender)[T.MALE]\n",
       "3          1.124   C(favPsychic)[T.Bethany]\n",
       "4          0.992   C(favPsychic)[T.Cynthia]\n",
       "5          1.170     C(favPsychic)[T.David]\n",
       "6          1.098   C(favPsychic)[T.Desiree]\n",
       "7          1.049      C(favPsychic)[T.Gina]\n",
       "8          0.963     C(favPsychic)[T.Kitty]\n",
       "9          0.947    C(favPsychic)[T.Laurie]\n",
       "10         0.963       C(favPsychic)[T.Liz]\n",
       "11         0.930  C(favPsychic)[T.Samantha]\n",
       "12         1.427                        Age\n",
       "13         1.050             Average_Answer"
      ]
     },
     "execution_count": 1051,
     "metadata": {},
     "output_type": "execute_result"
    }
   ],
   "source": [
    "d = {'Coefficients': np.exp(lr.coef_[0]), 'Features': X.columns}\n",
    "pd.DataFrame(d, columns=['Coefficients', 'Features'])"
   ]
  },
  {
   "cell_type": "code",
   "execution_count": 1054,
   "metadata": {
    "collapsed": false
   },
   "outputs": [
    {
     "data": {
      "text/plain": [
       "RandomizedPCA(copy=True, iterated_power=3, n_components=2, random_state=None,\n",
       "       whiten=False)"
      ]
     },
     "execution_count": 1054,
     "metadata": {},
     "output_type": "execute_result"
    }
   ],
   "source": [
    "# Lets do PCA to visualize this\n",
    "from sklearn.decomposition import RandomizedPCA\n",
    "pca = RandomizedPCA(n_components=2)\n",
    "pca.fit(X_clean)"
   ]
  },
  {
   "cell_type": "code",
   "execution_count": 1055,
   "metadata": {
    "collapsed": false
   },
   "outputs": [
    {
     "data": {
      "text/plain": [
       "array([ 0.15040263,  0.0964347 ])"
      ]
     },
     "execution_count": 1055,
     "metadata": {},
     "output_type": "execute_result"
    }
   ],
   "source": [
    "pca.explained_variance_ratio_"
   ]
  },
  {
   "cell_type": "code",
   "execution_count": 1056,
   "metadata": {
    "collapsed": true
   },
   "outputs": [],
   "source": [
    "comp = pca.components_"
   ]
  },
  {
   "cell_type": "code",
   "execution_count": 1059,
   "metadata": {
    "collapsed": false
   },
   "outputs": [
    {
     "data": {
      "text/plain": [
       "array([[ 1.47666714, -1.47666714, -0.34082127, ..., -0.20598833,\n",
       "        -0.94904875,  0.74133121],\n",
       "       [ 1.47666714,  0.67720069, -0.34082127, ..., -0.20598833,\n",
       "        -0.01581063, -0.5800082 ],\n",
       "       [ 1.47666714,  0.67720069,  2.93408921, ..., -0.20598833,\n",
       "        -0.59908446, -0.64744512],\n",
       "       ..., \n",
       "       [ 1.47666714,  0.67720069, -0.34082127, ..., -0.20598833,\n",
       "         0.45080842, -0.72989629],\n",
       "       [ 1.47666714, -1.47666714, -0.34082127, ..., -0.20598833,\n",
       "        -0.36577493, -0.19370919],\n",
       "       [ 1.47666714,  0.67720069, -0.34082127, ..., -0.20598833,\n",
       "         0.21749889, -0.73617344]])"
      ]
     },
     "execution_count": 1059,
     "metadata": {},
     "output_type": "execute_result"
    }
   ],
   "source": [
    "X_train"
   ]
  },
  {
   "cell_type": "code",
   "execution_count": 1062,
   "metadata": {
    "collapsed": false
   },
   "outputs": [
    {
     "data": {
      "image/png": "[encoded data removed]",
      "text/plain": [
       "<matplotlib.figure.Figure at 0x2eb650b8>"
      ]
     },
     "metadata": {},
     "output_type": "display_data"
    }
   ],
   "source": [
    "plt.style.use('ggplot')\n",
    "plt.title('Visualizing Psychic Data')\n",
    "plt.xlim(-0.1,.5)\n",
    "plt.ylim(-0.5, 0.5)\n",
    "for index, feature in enumerate(X.columns):\n",
    "    plt.arrow(0, 0, comp[0][index], comp[1][index], feature, color='red',\n",
    "             fc=\"k\", ec=\"k\",head_width=0.05, head_length=0.1)\n",
    "for index, feature in enumerate(X.columns):\n",
    "    plt.text(comp[0][index], comp[1][index], feature, color='red')"
   ]
  },
  {
   "cell_type": "code",
   "execution_count": null,
   "metadata": {
    "collapsed": true
   },
   "outputs": [],
   "source": []
  }
 ],
 "metadata": {
  "kernelspec": {
   "display_name": "Python 2",
   "language": "python",
   "name": "python2"
  },
  "language_info": {
   "codemirror_mode": {
    "name": "ipython",
    "version": 2
   },
   "file_extension": ".py",
   "mimetype": "text/x-python",
   "name": "python",
   "nbconvert_exporter": "python",
   "pygments_lexer": "ipython2",
   "version": "2.7.10"
  }
 },
 "nbformat": 4,
 "nbformat_minor": 0
}
